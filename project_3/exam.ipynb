{
 "cells": [
  {
   "cell_type": "markdown",
   "metadata": {},
   "source": [
    "# Яндекс.Музыка"
   ]
  },
  {
   "cell_type": "markdown",
   "metadata": {
    "id": "VUC88oWjTJw2"
   },
   "source": [
    "Сравнение Москвы и Петербурга окружено мифами. Например:\n",
    " * Москва — мегаполис, подчинённый жёсткому ритму рабочей недели;\n",
    " * Петербург — культурная столица, со своими вкусами.\n",
    "\n",
    "На данных Яндекс.Музыки вы сравните поведение пользователей двух столиц.\n",
    "\n",
    "**Цель исследования** — проверьте три гипотезы:\n",
    "1. Активность пользователей зависит от дня недели. Причём в Москве и Петербурге это проявляется по-разному.\n",
    "2. В понедельник утром в Москве преобладают одни жанры, а в Петербурге — другие. Так же и вечером пятницы преобладают разные жанры — в зависимости от города. \n",
    "3. Москва и Петербург предпочитают разные жанры музыки. В Москве чаще слушают поп-музыку, в Петербурге — русский рэп.\n",
    "\n",
    "**Ход исследования**\n",
    "\n",
    "Данные о поведении пользователей вы получите из файла `yandex_music_project.csv`. О качестве данных ничего не известно. Поэтому перед проверкой гипотез понадобится обзор данных. \n",
    "\n",
    "Вы проверите данные на ошибки и оцените их влияние на исследование. Затем, на этапе предобработки вы поищете возможность исправить самые критичные ошибки данных.\n",
    " \n",
    "Таким образом, исследование пройдёт в три этапа:\n",
    " 1. Обзор данных.\n",
    " 2. Предобработка данных.\n",
    " 3. Проверка гипотез.\n",
    "\n"
   ]
  },
  {
   "cell_type": "markdown",
   "metadata": {},
   "source": [
    "<div class=\"alert alert-success\">\n",
    "<h2> Комментарий ревьюера ✔️ <a class=\"tocSkip\"> </h2>\n",
    "\n",
    "Отличное введение! Не забывай о нем в следующих проектах тоже 😉. Эту часть пользователь отчета видит самой первой и из нее становится понятно, чему работа посвящена. И еще, старайся его не копипастить, а переписать своими словами, это позволит перейти тебе на новый уровень оформления работы \n"
   ]
  },
  {
   "cell_type": "markdown",
   "metadata": {
    "id": "Ml1hmfXC_Zcs"
   },
   "source": [
    "## Обзор данных\n",
    "\n",
    "Составьте первое представление о данных Яндекс.Музыки.\n",
    "\n",
    "\n"
   ]
  },
  {
   "cell_type": "markdown",
   "metadata": {
    "id": "57eAOGIz_Zcs"
   },
   "source": [
    "Основной инструмент аналитика — `pandas`. Импортируйте эту библиотеку."
   ]
  },
  {
   "cell_type": "code",
   "execution_count": 1,
   "metadata": {},
   "outputs": [],
   "source": [
    "import pandas as pd"
   ]
  },
  {
   "cell_type": "markdown",
   "metadata": {},
   "source": [
    "<div class=\"alert alert-success\">\n",
    "<h2> Комментарий ревьюера ✔️ <a class=\"tocSkip\"> </h2>\n",
    "\n",
    "Правильно, что используешь сокращение pd для pandas - это общепринятое сокращение (также как и np для numpy) и именно pd ты будешь встречать на всех сайтах, где будешь искать информацию при обучении (а умение искать информацию, код - одно из ключевых в нашем деле).\n"
   ]
  },
  {
   "cell_type": "markdown",
   "metadata": {
    "id": "SG23P8tt_Zcs"
   },
   "source": [
    "Прочитайте файл `yandex_music_project.csv` из папки `/datasets` и сохраните его в переменной `df`:"
   ]
  },
  {
   "cell_type": "code",
   "execution_count": 2,
   "metadata": {
    "id": "fFVu7vqh_Zct"
   },
   "outputs": [
    {
     "ename": "NameError",
     "evalue": "name 'df' is not defined",
     "output_type": "error",
     "traceback": [
      "\u001b[0;31m---------------------------------------------------------------------------\u001b[0m",
      "\u001b[0;31mNameError\u001b[0m                                 Traceback (most recent call last)",
      "\u001b[0;32m<ipython-input-2-945df62d18c1>\u001b[0m in \u001b[0;36m<module>\u001b[0;34m\u001b[0m\n\u001b[0;32m----> 1\u001b[0;31m \u001b[0mdf\u001b[0m\u001b[0;34m.\u001b[0m\u001b[0mto_csv\u001b[0m\u001b[0;34m(\u001b[0m\u001b[0;34m'yandex_music_project.csv'\u001b[0m\u001b[0;34m)\u001b[0m \u001b[0;31m# чтение файла с данными и сохранение в df\u001b[0m\u001b[0;34m\u001b[0m\u001b[0;34m\u001b[0m\u001b[0m\n\u001b[0m",
      "\u001b[0;31mNameError\u001b[0m: name 'df' is not defined"
     ]
    }
   ],
   "source": [
    "\n",
    "df.to_csv('yandex_music_project.csv') # чтение файла с данными и сохранение в df"
   ]
  },
  {
   "cell_type": "markdown",
   "metadata": {},
   "source": [
    "<div class=\"alert alert-success\"> \n",
    "<h2> Комментарий ревьюера ✔️ <a class=\"tocSkip\"> </h2>\n",
    "\n",
    "Файл загружен корректно 👍 Кстати, если будешь делать проекты локально, не забывай менять пути к файлам. Здесь удобно  использовать конструкцию `try-except` для путей файлов. Например: Try - пути на локальном компьютере, except - пути на сервере. Тогда твой проект будет всегда работать и локально, и в тренажере."
   ]
  },
  {
   "cell_type": "markdown",
   "metadata": {
    "id": "rDoOMd3uTqnZ"
   },
   "source": [
    "Выведите на экран первые десять строк таблицы:"
   ]
  },
  {
   "cell_type": "code",
   "execution_count": null,
   "metadata": {
    "id": "oWTVX3gW_Zct"
   },
   "outputs": [],
   "source": [
    "display(df.head(10))#получение первых 10 строк таблицы df"
   ]
  },
  {
   "cell_type": "markdown",
   "metadata": {},
   "source": [
    "<div class=\"alert alert-success\">\n",
    "<h2> Комментарий ревьюера ✔️ <a class=\"tocSkip\"> </h2>\n",
    "\n",
    "Первый взгляд на сырые данные - это важная часть любого исследования. Кстати, ты знаешь про методы [tail](https://pandas.pydata.org/pandas-docs/stable/reference/api/pandas.DataFrame.tail.html) и [sample](https://pandas.pydata.org/pandas-docs/stable/reference/api/pandas.DataFrame.sample.html)? Если нет, то обязательно почитай на досуге)\n"
   ]
  },
  {
   "cell_type": "markdown",
   "metadata": {
    "id": "EO73Kwic_Zct"
   },
   "source": [
    "Одной командой получить общую информацию о таблице:"
   ]
  },
  {
   "cell_type": "code",
   "execution_count": null,
   "metadata": {
    "id": "DSf2kIb-_Zct"
   },
   "outputs": [],
   "source": [
    "df.info()# получение общей информации о данных в таблице df"
   ]
  },
  {
   "cell_type": "markdown",
   "metadata": {},
   "source": [
    "<div class=\"alert alert-success\">\n",
    "<h2> Комментарий ревьюера ✔️ <a class=\"tocSkip\"> </h2>\n",
    "\n",
    "Пайплан первичной обработки можно усилить добавив [describe](https://pandas.pydata.org/pandas-docs/stable/reference/api/pandas.DataFrame.describe.html) \n"
   ]
  },
  {
   "cell_type": "markdown",
   "metadata": {
    "id": "TaQ2Iwbr_Zct"
   },
   "source": [
    "Итак, в таблице семь столбцов. Тип данных во всех столбцах — `object`.\n",
    "\n",
    "Согласно документации к данным:\n",
    "* `userID` — идентификатор пользователя;\n",
    "* `Track` — название трека;  \n",
    "* `artist` — имя исполнителя;\n",
    "* `genre` — название жанра;\n",
    "* `City` — город пользователя;\n",
    "* `time` — время начала прослушивания;\n",
    "* `Day` — день недели.\n",
    "\n",
    "В названиях колонок видны три нарушения стиля:\n",
    "1. Строчные буквы сочетаются с прописными.\n",
    "2. Встречаются пробелы.\n",
    "3. При описании названия столбцов необходимо использовать змеиный регистр\n",
    "\n",
    "\n",
    "\n",
    "Количество значений в столбцах различается. Значит, в данных есть пропущенные значения.\n"
   ]
  },
  {
   "cell_type": "markdown",
   "metadata": {},
   "source": [
    "<div class=\"alert alert-success\"> \n",
    "<h2> Комментарий ревьюера ✔️ <a class=\"tocSkip\"> </h2>\n",
    "\n",
    "Абсолютно верно!"
   ]
  },
  {
   "cell_type": "markdown",
   "metadata": {
    "id": "MCB6-dXG_Zct"
   },
   "source": [
    "**Выводы**\n",
    "\n",
    "В каждой строке таблицы — данные о прослушанном треке. Часть колонок описывает саму композицию: название, исполнителя и жанр. Остальные данные рассказывают о пользователе: из какого он города, когда он слушал музыку. \n",
    "\n",
    "Предварительно можно утверждать, что, данных достаточно для проверки гипотез. Но встречаются пропуски в данных, а в названиях колонок — расхождения с хорошим стилем.\n",
    "\n",
    "Чтобы двигаться дальше, нужно устранить проблемы в данных."
   ]
  },
  {
   "cell_type": "markdown",
   "metadata": {
    "id": "SjYF6Ub9_Zct"
   },
   "source": [
    "## Предобработка данных\n",
    "Исправьте стиль в заголовках столбцов, исключите пропуски. Затем проверьте данные на дубликаты."
   ]
  },
  {
   "cell_type": "markdown",
   "metadata": {
    "id": "dIaKXr29_Zct"
   },
   "source": [
    "### Стиль заголовков\n",
    "Выведите на экран названия столбцов:"
   ]
  },
  {
   "cell_type": "code",
   "execution_count": null,
   "metadata": {
    "id": "oKOTdF_Q_Zct"
   },
   "outputs": [],
   "source": [
    "df.columns# перечень названий столбцов таблицы df"
   ]
  },
  {
   "cell_type": "markdown",
   "metadata": {
    "id": "zj5534cv_Zct"
   },
   "source": [
    "Приведите названия в соответствие с хорошим стилем:\n",
    "* несколько слов в названии запишите в «змеином_регистре»,\n",
    "* все символы сделайте строчными,\n",
    "* устраните пробелы.\n",
    "\n",
    "Для этого переименуйте колонки так:\n",
    "* `'  userID'` → `'user_id'`;\n",
    "* `'Track'` → `'track'`;\n",
    "* `'  City  '` → `'city'`;\n",
    "* `'Day'` → `'day'`."
   ]
  },
  {
   "cell_type": "code",
   "execution_count": null,
   "metadata": {
    "id": "ISlFqs5y_Zct"
   },
   "outputs": [],
   "source": [
    "df.set_axis(['user_id', 'track', 'artist', 'genre', 'city', 'time', 'day'],axis = 'columns',inplace = True)# переименование столбцов"
   ]
  },
  {
   "cell_type": "markdown",
   "metadata": {},
   "source": [
    "<div class=\"alert alert-warning\">\n",
    "<h2> Комментарий ревьюера ⚠️ <a class=\"tocSkip\"> </h2>\n",
    "\n",
    "Для переименовки названия столбцов лучше использовать метод [rename](https://pandas.pydata.org/pandas-docs/stable/reference/api/pandas.DataFrame.rename.html) - позволяет избежать ошибок, если порядок столбцов поменяется\n"
   ]
  },
  {
   "cell_type": "markdown",
   "metadata": {
    "id": "1dqbh00J_Zct"
   },
   "source": [
    "Проверьте результат. Для этого ещё раз выведите на экран названия столбцов:"
   ]
  },
  {
   "cell_type": "code",
   "execution_count": null,
   "metadata": {
    "id": "d4NOAmTW_Zct"
   },
   "outputs": [],
   "source": [
    "df.columns #проверка результатов - перечень названий столбцов"
   ]
  },
  {
   "cell_type": "markdown",
   "metadata": {
    "id": "5ISfbcfY_Zct"
   },
   "source": [
    "### Пропуски значений\n",
    "Сначала посчитайте, сколько в таблице пропущенных значений. Для этого достаточно двух методов `pandas`:"
   ]
  },
  {
   "cell_type": "code",
   "execution_count": null,
   "metadata": {
    "id": "RskX29qr_Zct"
   },
   "outputs": [],
   "source": [
    "df.isnull().sum() #подсчёт пропусков"
   ]
  },
  {
   "cell_type": "markdown",
   "metadata": {},
   "source": [
    "<div class=\"alert alert-warning\">\n",
    "<h2> Комментарий ревьюера ⚠️ <a class=\"tocSkip\"> </h2>\n",
    "    \n",
    "Здесь метод `isnull()`лучше заменить на `isna()`. Почему? Читай вот [здесь](https://stackoverflow.com/questions/52086574/pandas-isna-and-isnull-what-is-the-difference)\n"
   ]
  },
  {
   "cell_type": "markdown",
   "metadata": {
    "id": "qubhgnlO_Zct"
   },
   "source": [
    "Не все пропущенные значения влияют на исследование. Так в `track` и `artist` пропуски не важны для вашей работы. Достаточно заменить их явными обозначениями.\n",
    "\n",
    "Но пропуски в `genre` могут помешать сравнению музыкальных вкусов в Москве и Санкт-Петербурге. На практике было бы правильно установить причину пропусков и восстановить данные. Такой возможности нет в учебном проекте. Придётся:\n",
    "* заполнить и эти пропуски явными обозначениями,\n",
    "* оценить, насколько они повредят расчётам. "
   ]
  },
  {
   "cell_type": "markdown",
   "metadata": {
    "id": "fSv2laPA_Zct"
   },
   "source": [
    "Замените пропущенные значения в столбцах `track`, `artist` и `genre` на строку `'unknown'`. Для этого создайте список `columns_to_replace`, переберите его элементы циклом `for` и для каждого столбца выполните замену пропущенных значений:"
   ]
  },
  {
   "cell_type": "code",
   "execution_count": null,
   "metadata": {
    "id": "KplB5qWs_Zct"
   },
   "outputs": [],
   "source": [
    "df = df.fillna('unknown')\n",
    "#columns_to_replace = ['track', 'artist', 'genre']\n",
    "#for column in columns_to_replace:\n",
    "    #for i in range(len(df)):\n",
    "       # #if df.loc[i,column] is None:\n",
    "            #df.loc[i,column] = 'unknown'\n",
    "            # перебор названий столбцов в цикле и замена пропущенных значений на 'unknown'"
   ]
  },
  {
   "cell_type": "markdown",
   "metadata": {},
   "source": [
    "<div class=\"alert alert-success\">\n",
    "<h2> Комментарий ревьюера ✔️ <a class=\"tocSkip\"> </h2>\n",
    "\n",
    "Молодец, что не стал использовать цикл, здесь он ни к чему"
   ]
  },
  {
   "cell_type": "markdown",
   "metadata": {
    "id": "Ilsm-MZo_Zct"
   },
   "source": [
    "Убедитесь, что в таблице не осталось пропусков. Для этого ещё раз посчитайте пропущенные значения."
   ]
  },
  {
   "cell_type": "code",
   "execution_count": null,
   "metadata": {
    "id": "Tq4nYRX4_Zct"
   },
   "outputs": [],
   "source": [
    "df.isnull().sum()# подсчёт пропусков"
   ]
  },
  {
   "cell_type": "markdown",
   "metadata": {
    "id": "BWKRtBJ3_Zct"
   },
   "source": [
    "### Дубликаты\n",
    "Посчитайте явные дубликаты в таблице одной командой:"
   ]
  },
  {
   "cell_type": "code",
   "execution_count": null,
   "metadata": {
    "id": "36eES_S0_Zct"
   },
   "outputs": [],
   "source": [
    "df.duplicated().sum()# подсчёт явных дубликатов"
   ]
  },
  {
   "cell_type": "markdown",
   "metadata": {},
   "source": [
    "<div class=\"alert alert-success\">\n",
    "<h2> Комментарий ревьюера ✔️ <a class=\"tocSkip\"> </h2>\n",
    "\n",
    "Дааааа, многовато...\n",
    "\n",
    "![](https://i.ibb.co/s13m30m/C2pL.gif)\n"
   ]
  },
  {
   "cell_type": "markdown",
   "metadata": {
    "id": "Ot25h6XR_Zct"
   },
   "source": [
    "Вызовите специальный метод `pandas`, чтобы удалить явные дубликаты:"
   ]
  },
  {
   "cell_type": "code",
   "execution_count": null,
   "metadata": {
    "id": "exFHq6tt_Zct"
   },
   "outputs": [],
   "source": [
    "df = df.drop_duplicates().reset_index(drop = True)# удаление явных дубликатов (с удалением старых индексов и формированием новых)"
   ]
  },
  {
   "cell_type": "markdown",
   "metadata": {},
   "source": [
    "<div class=\"alert alert-success\">\n",
    "<h2> Комментарий ревьюера ✔️ <a class=\"tocSkip\"> </h2>\n",
    "\n",
    "Все круто. Сбросить индексы - отличное решение, на мой взгляд, так лучше.\n"
   ]
  },
  {
   "cell_type": "markdown",
   "metadata": {
    "id": "Im2YwBEG_Zct"
   },
   "source": [
    "Ещё раз посчитайте явные дубликаты в таблице — убедитесь, что полностью от них избавились:"
   ]
  },
  {
   "cell_type": "code",
   "execution_count": null,
   "metadata": {
    "id": "-8PuNWQ0_Zct"
   },
   "outputs": [],
   "source": [
    "df.duplicated().sum()# проверка на отсутствие дубликатов"
   ]
  },
  {
   "cell_type": "markdown",
   "metadata": {
    "id": "QlFBsxAr_Zct"
   },
   "source": [
    "Теперь избавьтесь от неявных дубликатов в колонке `genre`. Например, название одного и того же жанра может быть записано немного по-разному. Такие ошибки тоже повлияют на результат исследования."
   ]
  },
  {
   "cell_type": "markdown",
   "metadata": {
    "id": "eSjWwsOh_Zct"
   },
   "source": [
    "Выведите на экран список уникальных названий жанров, отсортированный в алфавитном порядке. Для этого:\n",
    "* извлеките нужный столбец датафрейма, \n",
    "* примените к нему метод сортировки,\n",
    "* для отсортированного столбца вызовите метод, который вернёт уникальные значения из столбца."
   ]
  },
  {
   "cell_type": "code",
   "execution_count": null,
   "metadata": {
    "id": "JIUcqzZN_Zct"
   },
   "outputs": [],
   "source": [
    "sorted(df['genre'].unique())\n",
    "\n",
    "# Просмотр уникальных названий жанров"
   ]
  },
  {
   "cell_type": "markdown",
   "metadata": {
    "id": "qej-Qmuo_Zct"
   },
   "source": [
    "Просмотрите список и найдите неявные дубликаты названия `hiphop`. Это могут быть названия с ошибками или альтернативные названия того же жанра.\n",
    "\n",
    "Вы увидите следующие неявные дубликаты:\n",
    "* *hip*,\n",
    "* *hop*,\n",
    "* *hip-hop*.\n",
    "\n",
    "Чтобы очистить от них таблицу, напишите функцию `replace_wrong_genres()` с двумя параметрами: \n",
    "* `wrong_genres` — список дубликатов,\n",
    "* `correct_genre` — строка с правильным значением.\n",
    "\n",
    "Функция должна исправить колонку `genre` в таблице `df`: заменить каждое значение из списка `wrong_genres` на значение из `correct_genre`."
   ]
  },
  {
   "cell_type": "code",
   "execution_count": null,
   "metadata": {
    "id": "ErNDkmns_Zct"
   },
   "outputs": [],
   "source": [
    "def replace_wrong_genres(wrong_genres,correct_genre):\n",
    "    for wrong_genre in wrong_genres:\n",
    "        df['genre'] = df['genre'].replace(wrong_genre,correct_genre)\n",
    "# Функция для замены неявных дубликатов"
   ]
  },
  {
   "cell_type": "markdown",
   "metadata": {},
   "source": [
    "<div class=\"alert alert-success\">\n",
    "<h2> Комментарий ревьюера <a class=\"tocSkip\"> </h2>\n",
    "\n",
    "Небольшое упрощение, опять-таки связано со списками. Так можно заменить эти значения с помощью одного реплейса:\n",
    "    \n",
    "```python\n",
    "duplicates = ['hip', 'hop', 'hip-hop']\n",
    "correct_name = 'hiphop'  \n",
    "\n",
    "df['genre'] = df['genre'].replace(duplicates, correct_name)\n",
    "```\n",
    "\n",
    "Программа посмотрит на список duplicates и каждое встречающееся в Series значение из этого списка заменит на correct_name. Можно сделать и так:\n",
    "\n",
    "    \n",
    "```python\n",
    "df['genre'] = df['genre'].replace(['hip', 'hop', 'hip-hop'], 'hiphop')\n",
    "```\n"
   ]
  },
  {
   "cell_type": "markdown",
   "metadata": {
    "id": "aDoBJxbA_Zct"
   },
   "source": [
    "Вызовите `replace_wrong_genres()` и передайте ей такие аргументы, чтобы она устранила неявные дубликаты: вместо `hip`, `hop` и `hip-hop` в таблице должно быть значение `hiphop`:"
   ]
  },
  {
   "cell_type": "code",
   "execution_count": null,
   "metadata": {
    "id": "YN5i2hpmSo09"
   },
   "outputs": [],
   "source": [
    "wrong_duplicates = ['hip','hop','hip-hop']\n",
    "right_name = 'hiphop'\n",
    "replace_wrong_genres(wrong_duplicates,right_name)\n",
    "# Устранение неявных дубликатов"
   ]
  },
  {
   "cell_type": "markdown",
   "metadata": {
    "id": "zQKF16_RG15m"
   },
   "source": [
    "Проверьте, что заменили неправильные названия:\n",
    "\n",
    "*   hip\n",
    "*   hop\n",
    "*   hip-hop\n",
    "\n",
    "Выведите отсортированный список уникальных значений столбца `genre`:"
   ]
  },
  {
   "cell_type": "code",
   "execution_count": null,
   "metadata": {
    "id": "wvixALnFG15m"
   },
   "outputs": [],
   "source": [
    "sorted(df['genre'].unique())# Проверка на неявные дубликаты"
   ]
  },
  {
   "cell_type": "markdown",
   "metadata": {
    "id": "jz6a9-7HQUDd"
   },
   "source": [
    "**Выводы**\n",
    "\n",
    "Предобработка обнаружила три проблемы в данных:\n",
    "\n",
    "- нарушения в стиле заголовков,\n",
    "- пропущенные значения,\n",
    "- дубликаты — явные и неявные.\n",
    "\n",
    "Вы исправили заголовки, чтобы упростить работу с таблицей. Без дубликатов исследование станет более точным.\n",
    "\n",
    "Пропущенные значения вы заменили на `'unknown'`. Ещё предстоит увидеть, не повредят ли исследованию пропуски в колонке `genre`.\n",
    "\n",
    "Теперь можно перейти к проверке гипотез. "
   ]
  },
  {
   "cell_type": "markdown",
   "metadata": {},
   "source": [
    "<div class=\"alert alert-success\">\n",
    "<h2> Комментарий ревьюера <a class=\"tocSkip\"> </h2>\n",
    "\n",
    "Здорово, когда шаг заканчивается выводом - что сделали, к чему пришли. Это хорошая практика, прошу придерживаться ее и в следующих проектах.\n"
   ]
  },
  {
   "cell_type": "markdown",
   "metadata": {
    "id": "WttZHXH0SqKk"
   },
   "source": [
    "## Проверка гипотез"
   ]
  },
  {
   "cell_type": "markdown",
   "metadata": {
    "id": "Im936VVi_Zcu"
   },
   "source": [
    "### Сравнение поведения пользователей двух столиц"
   ]
  },
  {
   "cell_type": "markdown",
   "metadata": {
    "id": "nwt_MuaL_Zcu"
   },
   "source": [
    "Первая гипотеза утверждает, что пользователи по-разному слушают музыку в Москве и Санкт-Петербурге. Проверьте это предположение по данным о трёх днях недели — понедельнике, среде и пятнице. Для этого:\n",
    "\n",
    "* Разделите пользователей Москвы и Санкт-Петербурга\n",
    "* Сравните, сколько треков послушала каждая группа пользователей в понедельник, среду и пятницу.\n"
   ]
  },
  {
   "cell_type": "markdown",
   "metadata": {
    "id": "8Dw_YMmT_Zcu"
   },
   "source": [
    "Для тренировки сначала выполните каждый из расчётов по отдельности. \n",
    "\n",
    "Оцените активность пользователей в каждом городе. Сгруппируйте данные по городу и посчитайте прослушивания в каждой группе.\n",
    "\n"
   ]
  },
  {
   "cell_type": "code",
   "execution_count": null,
   "metadata": {
    "id": "0_Qs96oh_Zcu"
   },
   "outputs": [],
   "source": [
    "number_hearing = df.groupby('city')['track'].count()\n",
    "display(number_hearing)# Подсчёт прослушиваний в каждом городе"
   ]
  },
  {
   "cell_type": "markdown",
   "metadata": {
    "id": "dzli3w8o_Zcu"
   },
   "source": [
    "В Москве прослушиваний больше, чем в Петербурге. Из этого не следует, что московские пользователи чаще слушают музыку. Просто самих пользователей в Москве больше.\n",
    "\n",
    "Теперь сгруппируйте данные по дню недели и подсчитайте прослушивания в понедельник, среду и пятницу. Учтите, что в данных есть информация только о прослушиваниях только за эти дни.\n"
   ]
  },
  {
   "cell_type": "code",
   "execution_count": null,
   "metadata": {
    "id": "uZMKjiJz_Zcu"
   },
   "outputs": [],
   "source": [
    "number_hearing_per_day = df.groupby('day')['track'].count()\n",
    "display(number_hearing_per_day) # Подсчёт прослушиваний в каждый из трёх дней"
   ]
  },
  {
   "cell_type": "markdown",
   "metadata": {
    "id": "cC2tNrlL_Zcu"
   },
   "source": [
    "В среднем пользователи из двух городов менее активны по средам. Но картина может измениться, если рассмотреть каждый город в отдельности."
   ]
  },
  {
   "cell_type": "markdown",
   "metadata": {
    "id": "POzs8bGa_Zcu"
   },
   "source": [
    "Вы видели, как работает группировка по городу и по дням недели. Теперь напишите функцию, которая объединит два эти расчёта.\n",
    "\n",
    "Создайте функцию `number_tracks()`, которая посчитает прослушивания для заданного дня и города. Ей понадобятся два параметра:\n",
    "* день недели,\n",
    "* название города.\n",
    "\n",
    "В функции сохраните в переменную строки исходной таблицы, у которых значение:\n",
    "  * в колонке `day` равно параметру `day`,\n",
    "  * в колонке `city` равно параметру `city`.\n",
    "\n",
    "Для этого примените последовательную фильтрацию с логической индексацией.\n",
    "\n",
    "Затем посчитайте значения в столбце `user_id` получившейся таблицы. Результат сохраните в новую переменную. Верните эту переменную из функции."
   ]
  },
  {
   "cell_type": "code",
   "execution_count": null,
   "metadata": {
    "id": "Nz3GdQB1_Zcu"
   },
   "outputs": [],
   "source": [
    "def number_tracks(day,city):# Объявляется функция с двумя параметрами: day, city\n",
    "    track_list = df[df['day'] == day]\n",
    "    track_list = track_list[track_list['city'] == city]\n",
    "    track_list_count = track_list['user_id'].count()\n",
    "    return track_list_count\n",
    "\n",
    "\n",
    "# <создание функции number_tracks()>\n",
    "# Объявляется функция с двумя параметрами: day, city.\n",
    "# В переменной track_list сохраняются те строки таблицы df, для которых \n",
    "# значение в столбце 'day' равно параметру day и одновременно значение\n",
    "# в столбце 'city' равно параметру city (используйте последовательную фильтрацию\n",
    "# с помощью логической индексации).\n",
    "# В переменной track_list_count сохраняется число значений столбца 'user_id',\n",
    "# рассчитанное методом count() для таблицы track_list.\n",
    "# Функция возвращает число - значение track_list_count.\n",
    "\n",
    "# Функция для подсчёта прослушиваний для конкретного города и дня.\n",
    "# С помощью последовательной фильтрации с логической индексацией она \n",
    "# сначала получит из исходной таблицы строки с нужным днём,\n",
    "# затем из результата отфильтрует строки с нужным городом,\n",
    "# методом count() посчитает количество значений в колонке user_id. \n",
    "# Это количество функция вернёт в качестве результата\n"
   ]
  },
  {
   "cell_type": "markdown",
   "metadata": {},
   "source": [
    "<div class=\"alert alert-warning\">\n",
    "<h2> Комментарий ревьюера ⚠️ <a class=\"tocSkip\"> </h2>\n",
    "\n",
    "Описание для функции принято оборачивать в тройные скобки, вот так\n",
    "    \n",
    "```python\n",
    "def return_2x(number):\n",
    "    '''Функция возвращает число умноженное на два'''\n",
    "    return 2 * number\n",
    "```\n",
    "    \n",
    "Тогда, если во время применения функции, мы захотим прочитать описание функции, мы можем зажать `Tab+Shift`, и в поле `Docstring` мы как раз увидим наше описание\n",
    "    \n",
    "![](https://i.ibb.co/0qr42jL/image.png)\n",
    "    \n",
    "Посмотри на документацию [pandas](https://github.com/pandas-dev/pandas/blob/v1.3.0/pandas/core/generic.py#L9694-L9764), там примерно та же конструкция, только немного усложненная)\n"
   ]
  },
  {
   "cell_type": "markdown",
   "metadata": {
    "id": "ytf7xFrFJQ2r"
   },
   "source": [
    "Вызовите `number_tracks()` шесть раз, меняя значение параметров — так, чтобы получить данные для каждого города в каждый из трёх дней."
   ]
  },
  {
   "cell_type": "code",
   "execution_count": null,
   "metadata": {
    "id": "rJcRATNQ_Zcu"
   },
   "outputs": [],
   "source": [
    "cities = ['Moscow','Saint-Petersburg']\n",
    "days = ['Monday','Wednesday','Friday']\n",
    "data_for_report = []\n",
    "for city in cities:\n",
    "    data = []\n",
    "    data.append(city)\n",
    "    for day in days:\n",
    "        data.append((number_tracks(day,city)))\n",
    "        print(f'Количество прослушиваний в {day} в городе {city}')\n",
    "        print(number_tracks(day,city))\n",
    "        print()\n",
    "    data_for_report.append(data)\n",
    "#количество прослушиваний в каждом городе по дням недели"
   ]
  },
  {
   "cell_type": "markdown",
   "metadata": {},
   "source": [
    "<div class=\"alert alert-success\"> \n",
    "<h2> Комментарий ревьюера ✔️ <a class=\"tocSkip\"> </h2>\n",
    "\n",
    "Классное решение! А вот моя реализация, так, дл общего развития)\n",
    "\n",
    "```python\n",
    "for weekday, city in zip(['Monday', 'Wednesday', 'Friday']*2, sorted(['Moscow', 'Saint-Petersburg']*3)):\n",
    "    print(f'Количество прослушиваний в {city} по {weekday} равно {number_tracks(weekday, city)}')\n",
    "```\n",
    "\n",
    "Какие приемы здесь использовались:\n",
    "\n",
    "- размножение списков, путем умножения их на число\n",
    "- сортировка через `sorted`\n",
    "- про `zip`: функция zip создаёт итератор, который комбинирует элементы нескольких списков. Это позволяет осуществлять параллельный обход списков в циклах for или, например, выполнять параллельную сортировку.\n",
    "\n",
    "![](https://i.ibb.co/MPPZ6TL/image.png)\n",
    "\n",
    "- про форматирование `f-строками` можно почитать вот [здесь](https://docs-python.ru/tutorial/ispolzovanie-tekstovyh-strok-python/formatirovanie-strok-pechati-sohranenija/)"
   ]
  },
  {
   "cell_type": "markdown",
   "metadata": {
    "id": "7QXffbO-_Zcu"
   },
   "source": [
    "Создайте c помощью конструктора `pd.DataFrame` таблицу, где\n",
    "* названия колонок — `['city', 'monday', 'wednesday', 'friday']`;\n",
    "* данные — результаты, которые вы получили с помощью `number_tracks`."
   ]
  },
  {
   "cell_type": "code",
   "execution_count": null,
   "metadata": {
    "id": "APAcLpOr_Zcu"
   },
   "outputs": [],
   "source": [
    "columns = ['city', 'monday', 'wednesday', 'friday']\n",
    "display(pd.DataFrame(data = data_for_report, columns = columns))# Таблица с результатами"
   ]
  },
  {
   "cell_type": "markdown",
   "metadata": {},
   "source": [
    "<div class=\"alert alert-success\">\n",
    "<h2> Комментарий ревьюера ✔️ <a class=\"tocSkip\"> </h2>\n",
    "\n",
    "Удобная и верная сводная таблица \n",
    "\n",
    "![](https://i.ibb.co/5rKhZ8d/5rN.gif)\n"
   ]
  },
  {
   "cell_type": "markdown",
   "metadata": {
    "id": "-EgPIHYu_Zcu"
   },
   "source": [
    "**Выводы**\n",
    "\n",
    "Данные показывают разницу поведения пользователей:\n",
    "\n",
    "- В Москве пик прослушиваний приходится на понедельник и пятницу, а в среду заметен спад.\n",
    "- В Петербурге, наоборот, больше слушают музыку по средам. Активность в понедельник и пятницу здесь почти в равной мере уступает среде.\n",
    "\n",
    "Значит, данные говорят в пользу первой гипотезы."
   ]
  },
  {
   "cell_type": "markdown",
   "metadata": {
    "id": "atZAxtq4_Zcu"
   },
   "source": [
    "### Музыка в начале и в конце недели"
   ]
  },
  {
   "cell_type": "markdown",
   "metadata": {
    "id": "eXrQqXFH_Zcu"
   },
   "source": [
    "Согласно второй гипотезе, утром в понедельник в Москве преобладают одни жанры, а в Петербурге — другие. Так же и вечером пятницы преобладают разные жанры — в зависимости от города."
   ]
  },
  {
   "cell_type": "markdown",
   "metadata": {
    "id": "S8UcW6Hw_Zcu"
   },
   "source": [
    "Сохраните таблицы с данными в две переменные:\n",
    "* по Москве — в `moscow_general`;\n",
    "* по Санкт-Петербургу — в `spb_general`."
   ]
  },
  {
   "cell_type": "code",
   "execution_count": null,
   "metadata": {
    "id": "qeaFfM_P_Zcu"
   },
   "outputs": [],
   "source": [
    "moscow_general = df[df['city'] == 'Moscow']\n",
    "display(moscow_general)# получение таблицы moscow_general из тех строк таблицы df, \n",
    "# для которых значение в столбце 'city' равно 'Moscow'\n"
   ]
  },
  {
   "cell_type": "code",
   "execution_count": null,
   "metadata": {
    "id": "ORaVRKto_Zcu"
   },
   "outputs": [],
   "source": [
    "spb_general = df[df['city'] == 'Saint-Petersburg']\n",
    "display(spb_general) # получение таблицы spb_general из тех строк таблицы df,\n",
    "# для которых значение в столбце 'city' равно 'Saint-Petersburg'\n"
   ]
  },
  {
   "cell_type": "markdown",
   "metadata": {
    "id": "MEJV-CX2_Zcu"
   },
   "source": [
    "Создайте функцию `genre_weekday()` с четырьмя параметрами:\n",
    "* таблица (датафрейм) с данными,\n",
    "* день недели,\n",
    "* начальная временная метка в формате 'hh:mm', \n",
    "* последняя временная метка в формате 'hh:mm'.\n",
    "\n",
    "Функция должна вернуть информацию о топ-10 жанров тех треков, которые прослушивали в указанный день, в промежутке между двумя отметками времени."
   ]
  },
  {
   "cell_type": "code",
   "execution_count": null,
   "metadata": {
    "id": "laJT9BYl_Zcu"
   },
   "outputs": [],
   "source": [
    "def genre_weekday(table,day,time1,time2):\n",
    "    genre_df= table[table['day'] == day]\n",
    "    genre_df = genre_df[genre_df['time'] > time1]\n",
    "    genre_df = genre_df[genre_df['time'] < time2]\n",
    "    genre_df_count = genre_df.groupby('genre')['track'].count()\n",
    "    genre_df_sorted = genre_df_count.sort_values(ascending = False)\n",
    "    return genre_df_sorted.head(10)\n",
    "\n",
    "\n",
    "# Объявление функции genre_weekday() с параметрами table, day, time1, time2,\n",
    "# которая возвращает информацию о самых популярных жанрах в указанный день в\n",
    "# заданное время:\n",
    "# 1) в переменную genre_df сохраняются те строки переданного датафрейма table, для\n",
    "#    которых одновременно:\n",
    "#    - значение в столбце day равно значению аргумента day\n",
    "#    - значение в столбце time больше значения аргумента time1\n",
    "#    - значение в столбце time меньше значения аргумента time2\n",
    "#    Используйте последовательную фильтрацию с помощью логической индексации.\n",
    "# 2) сгруппировать датафрейм genre_df по столбцу genre, взять один из его\n",
    "#    столбцов и посчитать методом count() количество записей для каждого из\n",
    "#    присутствующих жанров, получившийся Series записать в переменную\n",
    "#    genre_df_count\n",
    "# 3) отсортировать genre_df_count по убыванию встречаемости и сохранить\n",
    "#    в переменную genre_df_sorted\n",
    "# 4) вернуть Series из 10 первых значений genre_df_sorted, это будут топ-10\n",
    "#    популярных жанров (в указанный день, в заданное время)"
   ]
  },
  {
   "cell_type": "markdown",
   "metadata": {},
   "source": [
    "<div style=\"border:solid purple 5px; padding: 20px\"> \n",
    "<h2 align=\"center\"> Рубрика «Питонячий лайфхакер» <a class=\"tocSkip\"> </h2>\n",
    "\n",
    "<h3> PEP 8 - руководство по написанию кода на Python  <a class=\"tocSkip\"> </h3>\n",
    "\n",
    "В python есть своя философия. Именно отсюда берутся определенные правила и стандарты. В пайтон такое соглашение назвали PEP 8. PEP 8 создан на основе рекомендаций Гуидо ван Россума (создатель языка Python) с добавлениями от Барри Уорсо (соратник).\n",
    "\n",
    "Единый стиль оформления делает код понятным для самого программиста и его коллег с разным уровнем подготовки. В идеале наиболее сложный фрагмент кода должен быть понятен с первого прочтения. Это упрощает командную разработку и обучение новичков, позволяет вам быстро возвращаться к собственным давним проектам.\n",
    "\n",
    "Каждый уважающий себя питонист обязан знать этот стандарт. Читайте [оригинал](https://www.python.org/dev/peps/pep-0008/) или [перевод](https://pythonworld.ru/osnovy/pep-8-rukovodstvo-po-napisaniyu-koda-na-python.html), главное  —  вдумчиво!\n",
    "\n",
    "Когда проект небольшой, несложно следить за качеством кода, но вот когда проект принимает маштабы ... часто это становиться проблемой. В этом случае выручат скрипты автоматической проверки кода. Кстати, PyCharm проверяет написанное «на лету». А если вы привыкли работать в Jupyter, то на GitHub есть целый раздел [Python Code Quality Authority](https://github.com/PyCQA/), где хранятся утилиты для повышения качества кода, в том числе для проверки стиля на соответствие PEP 8: flake8, pycodestyle, pep8-naming.\n",
    "\n",
    "![](https://i.ibb.co/Gv0PvHQ/mini-magick20171220-84-vtyy26.png)"
   ]
  },
  {
   "cell_type": "markdown",
   "metadata": {
    "id": "la2s2_PF_Zcu"
   },
   "source": [
    "Cравните результаты функции `genre_weekday()` для Москвы и Санкт-Петербурга в понедельник утром (с 7:00 до 11:00) и в пятницу вечером (с 17:00 до 23:00):"
   ]
  },
  {
   "cell_type": "code",
   "execution_count": null,
   "metadata": {
    "id": "yz7itPUQ_Zcu"
   },
   "outputs": [],
   "source": [
    "genre_weekday(moscow_general, 'Monday', '07:00', '11:00')\n",
    "\n",
    "# вызов функции для утра понедельника в Москве (вместо df — таблица moscow_general)\n",
    "# объекты, хранящие время, являются строками и сравниваются как строки\n",
    "# пример вызова: genre_weekday(moscow_general, 'Monday', '07:00', '11:00')"
   ]
  },
  {
   "cell_type": "code",
   "execution_count": null,
   "metadata": {
    "id": "kwUcHPdy_Zcu"
   },
   "outputs": [],
   "source": [
    "genre_weekday(spb_general, 'Monday', '07:00', '11:00')# вызов функции для утра понедельника в Петербурге (вместо df — таблица spb_general)"
   ]
  },
  {
   "cell_type": "code",
   "execution_count": null,
   "metadata": {
    "id": "EzXVRE1o_Zcu"
   },
   "outputs": [],
   "source": [
    "genre_weekday(moscow_general, 'Friday', '17:00', '23:00')# вызов функции для вечера пятницы в Москве"
   ]
  },
  {
   "cell_type": "code",
   "execution_count": null,
   "metadata": {
    "id": "JZaEKu5v_Zcu"
   },
   "outputs": [],
   "source": [
    "genre_weekday(spb_general, 'Friday', '17:00', '23:00')# вызов функции для вечера пятницы в Петербурге"
   ]
  },
  {
   "cell_type": "markdown",
   "metadata": {},
   "source": [
    "<div class=\"alert alert-success\"> \n",
    "<h2> Комментарий ревьюера ✔️ <a class=\"tocSkip\"> </h2>\n",
    "\n",
    "Здесь все верно, идем дальше\n",
    "\n",
    "![](https://i.ibb.co/vDCfQgy/2GU.gif)"
   ]
  },
  {
   "cell_type": "markdown",
   "metadata": {
    "id": "wrCe4MNX_Zcu"
   },
   "source": [
    "**Выводы**\n",
    "\n",
    "Если сравнить топ-10 жанров в понедельник утром, можно сделать такие выводы:\n",
    "\n",
    "1. В Москве и Петербурге слушают похожую музыку. Единственное отличие — в московский рейтинг вошёл жанр “world”, а в петербургский — джаз и классика.\n",
    "\n",
    "2. В Москве пропущенных значений оказалось так много, что значение `'unknown'` заняло десятое место среди самых популярных жанров. Значит, пропущенные значения занимают существенную долю в данных и угрожают достоверности исследования.\n",
    "\n",
    "Вечер пятницы не меняет эту картину. Некоторые жанры поднимаются немного выше, другие спускаются, но в целом топ-10 остаётся тем же самым.\n",
    "\n",
    "Таким образом, вторая гипотеза подтвердилась лишь частично:\n",
    "* Пользователи слушают похожую музыку в начале недели и в конце.\n",
    "* Разница между Москвой и Петербургом не слишком выражена. В Москве чаще слушают русскую популярную музыку, в Петербурге — джаз.\n",
    "\n",
    "Однако пропуски в данных ставят под сомнение этот результат. В Москве их так много, что рейтинг топ-10 мог бы выглядеть иначе, если бы не утерянные  данные о жанрах."
   ]
  },
  {
   "cell_type": "markdown",
   "metadata": {
    "id": "JolODAqr_Zcu"
   },
   "source": [
    "### Жанровые предпочтения в Москве и Петербурге\n",
    "\n",
    "Гипотеза: Петербург — столица рэпа, музыку этого жанра там слушают чаще, чем в Москве.  А Москва — город контрастов, в котором, тем не менее, преобладает поп-музыка."
   ]
  },
  {
   "cell_type": "markdown",
   "metadata": {
    "id": "DlegSvaT_Zcu"
   },
   "source": [
    "Сгруппируйте таблицу `moscow_general` по жанру и посчитайте прослушивания треков каждого жанра методом `count()`. Затем отсортируйте результат в порядке убывания и сохраните его в таблице `moscow_genres`."
   ]
  },
  {
   "cell_type": "code",
   "execution_count": null,
   "metadata": {
    "id": "r19lIPke_Zcu"
   },
   "outputs": [],
   "source": [
    "moscow_genres = (moscow_general.groupby('genre')['track'].count()).sort_values(ascending = False)\n",
    "#moscow_genres = moscow_genres.sort_values(ascending = False) # одной строкой: группировка таблицы moscow_general по столбцу 'genre', \n",
    "# подсчёт числа значений 'genre' в этой группировке методом count(), \n",
    "# сортировка получившегося Series в порядке убывания и сохранение в moscow_genres"
   ]
  },
  {
   "cell_type": "markdown",
   "metadata": {
    "id": "6kMuomxTiIr8"
   },
   "source": [
    "Выведите на экран первые десять строк `moscow_genres`:"
   ]
  },
  {
   "cell_type": "code",
   "execution_count": null,
   "metadata": {
    "id": "WhCSooF8_Zcv"
   },
   "outputs": [],
   "source": [
    "moscow_genres.head(10)# просмотр первых 10 строк moscow_genres"
   ]
  },
  {
   "cell_type": "markdown",
   "metadata": {},
   "source": [
    "<div class=\"alert alert-warning\">\n",
    "<h2> Комментарий ревьюера ⚠️ <a class=\"tocSkip\"> </h2>\n",
    "\n",
    "Для красоты Series можно обратно преобразовывать в датафрейм методом `.to_frame()`:\n",
    "\n",
    "    moscow_genres.to_frame()\n"
   ]
  },
  {
   "cell_type": "markdown",
   "metadata": {
    "id": "cnPG2vnN_Zcv"
   },
   "source": [
    "Теперь повторите то же и для Петербурга.\n",
    "\n",
    "Сгруппируйте таблицу `spb_general` по жанру. Посчитайте прослушивания треков каждого жанра. Результат отсортируйте в порядке убывания и сохраните в таблице `spb_genres`:\n"
   ]
  },
  {
   "cell_type": "code",
   "execution_count": null,
   "metadata": {
    "id": "gluLIpE7_Zcv"
   },
   "outputs": [],
   "source": [
    "spb_genres = (spb_general.groupby('genre')['track'].count()).sort_values(ascending = False)# одной строкой: группировка таблицы spb_general по столбцу 'genre', \n",
    "# подсчёт числа значений 'genre' в этой группировке методом count(), \n",
    "# сортировка получившегося Series в порядке убывания и сохранение в spb_genres"
   ]
  },
  {
   "cell_type": "markdown",
   "metadata": {
    "id": "5Doha_ODgyQ8"
   },
   "source": [
    "Выведите на экран первые десять строк `spb_genres`:"
   ]
  },
  {
   "cell_type": "code",
   "execution_count": null,
   "metadata": {
    "id": "uaGJHjVU_Zcv"
   },
   "outputs": [],
   "source": [
    "spb_genres.head(10)# просмотр первых 10 строк spb_genres"
   ]
  },
  {
   "cell_type": "markdown",
   "metadata": {
    "id": "RY51YJYu_Zcv"
   },
   "source": [
    "**Выводы**"
   ]
  },
  {
   "cell_type": "markdown",
   "metadata": {
    "id": "nVhnJEm__Zcv"
   },
   "source": [
    "Гипотеза частично подтвердилась:\n",
    "* Поп-музыка — самый популярный жанр в Москве, как и предполагала гипотеза. Более того, в топ-10 жанров встречается близкий жанр — русская популярная музыка.\n",
    "* Вопреки ожиданиям, рэп одинаково популярен в Москве и Петербурге. \n"
   ]
  },
  {
   "cell_type": "markdown",
   "metadata": {
    "id": "ykKQ0N65_Zcv"
   },
   "source": [
    "## Итоги исследования"
   ]
  },
  {
   "cell_type": "markdown",
   "metadata": {
    "id": "tjUwbHb3_Zcv"
   },
   "source": [
    "Вы проверили три гипотезы и установили:\n",
    "\n",
    "1. День недели по-разному влияет на активность пользователей в Москве и Петербурге. \n",
    "\n",
    "Первая гипотеза полностью подтвердилась.\n",
    "\n",
    "2. Музыкальные предпочтения не сильно меняются в течение недели — будь то Москва или Петербург. Небольшие различия заметны в начале недели, по понедельникам:\n",
    "* в Москве слушают музыку жанра “world”,\n",
    "* в Петербурге — джаз и классику.\n",
    "\n",
    "Таким образом, вторая гипотеза подтвердилась лишь отчасти. Этот результат мог оказаться иным, если бы не пропуски в данных.\n",
    "\n",
    "3. Во вкусах пользователей Москвы и Петербурга больше общего чем различий. Вопреки ожиданиям, предпочтения жанров в Петербурге напоминают московские.\n",
    "\n",
    "Третья гипотеза не подтвердилась. Если различия в предпочтениях и существуют, на основной массе пользователей они незаметны.\n",
    "\n",
    "**На практике исследования содержат проверки статистических гипотез.**\n",
    "Из данных одного сервиса не всегда можно сделать вывод о всех жителях города.\n",
    "Проверки статистических гипотез покажут, насколько они достоверны, исходя из имеющихся данных. \n",
    "С методами проверок гипотез вы ещё познакомитесь в следующих темах."
   ]
  },
  {
   "cell_type": "markdown",
   "metadata": {},
   "source": [
    "<div class=\"alert alert-success\">\n",
    "<h2> Комментарий ревьюера ✔️ <a class=\"tocSkip\"> </h2>\n",
    "\n",
    "Общий вывод - важная часть исследования. Не забывай про него и в будущих проектах, так как порой пользователь отчета сразу переходит к нему - и из него он должен понять все, что было найдено в ходе исследования.\n"
   ]
  },
  {
   "cell_type": "code",
   "execution_count": null,
   "metadata": {},
   "outputs": [],
   "source": []
  }
 ],
 "metadata": {
  "ExecuteTimeLog": [
   {
    "duration": 337,
    "start_time": "2021-12-06T07:37:57.000Z"
   },
   {
    "duration": 784,
    "start_time": "2021-12-06T07:38:09.371Z"
   },
   {
    "duration": 190,
    "start_time": "2021-12-06T07:38:10.158Z"
   },
   {
    "duration": 787,
    "start_time": "2021-12-06T07:39:30.281Z"
   },
   {
    "duration": 201,
    "start_time": "2021-12-06T07:39:31.071Z"
   },
   {
    "duration": 11,
    "start_time": "2021-12-06T07:39:46.095Z"
   },
   {
    "duration": 25,
    "start_time": "2021-12-06T07:39:59.983Z"
   },
   {
    "duration": 32,
    "start_time": "2021-12-06T07:40:18.119Z"
   },
   {
    "duration": 5,
    "start_time": "2021-12-06T07:44:14.510Z"
   },
   {
    "duration": 6,
    "start_time": "2021-12-06T07:44:28.304Z"
   },
   {
    "duration": 5,
    "start_time": "2021-12-06T07:44:43.279Z"
   },
   {
    "duration": 4,
    "start_time": "2021-12-06T07:45:50.231Z"
   },
   {
    "duration": 10,
    "start_time": "2021-12-06T07:45:50.238Z"
   },
   {
    "duration": 8,
    "start_time": "2021-12-06T07:45:50.251Z"
   },
   {
    "duration": 7,
    "start_time": "2021-12-06T07:45:50.262Z"
   },
   {
    "duration": 19,
    "start_time": "2021-12-06T07:45:50.271Z"
   },
   {
    "duration": 6,
    "start_time": "2021-12-06T07:45:50.292Z"
   },
   {
    "duration": 6,
    "start_time": "2021-12-06T07:45:50.300Z"
   },
   {
    "duration": 5,
    "start_time": "2021-12-06T07:45:50.309Z"
   },
   {
    "duration": 4,
    "start_time": "2021-12-06T07:45:50.319Z"
   },
   {
    "duration": 6,
    "start_time": "2021-12-06T07:45:50.326Z"
   },
   {
    "duration": 6,
    "start_time": "2021-12-06T07:45:50.334Z"
   },
   {
    "duration": 38,
    "start_time": "2021-12-06T07:45:50.343Z"
   },
   {
    "duration": 7,
    "start_time": "2021-12-06T07:45:50.384Z"
   },
   {
    "duration": 8,
    "start_time": "2021-12-06T07:45:50.394Z"
   },
   {
    "duration": 9,
    "start_time": "2021-12-06T07:45:50.404Z"
   },
   {
    "duration": 6,
    "start_time": "2021-12-06T07:45:50.416Z"
   },
   {
    "duration": 11,
    "start_time": "2021-12-06T07:45:50.425Z"
   },
   {
    "duration": 10,
    "start_time": "2021-12-06T07:45:50.439Z"
   },
   {
    "duration": 30,
    "start_time": "2021-12-06T07:45:50.451Z"
   },
   {
    "duration": 12,
    "start_time": "2021-12-06T07:45:50.484Z"
   },
   {
    "duration": 10,
    "start_time": "2021-12-06T07:45:50.498Z"
   },
   {
    "duration": 8,
    "start_time": "2021-12-06T07:45:50.510Z"
   },
   {
    "duration": 8,
    "start_time": "2021-12-06T07:45:50.520Z"
   },
   {
    "duration": 20,
    "start_time": "2021-12-06T07:45:50.530Z"
   },
   {
    "duration": 12,
    "start_time": "2021-12-06T07:45:50.553Z"
   },
   {
    "duration": 35,
    "start_time": "2021-12-06T07:45:50.568Z"
   },
   {
    "duration": 8,
    "start_time": "2021-12-06T07:45:50.610Z"
   },
   {
    "duration": 7,
    "start_time": "2021-12-06T07:45:50.621Z"
   },
   {
    "duration": 16,
    "start_time": "2021-12-06T07:45:50.631Z"
   },
   {
    "duration": 6,
    "start_time": "2021-12-06T07:45:50.650Z"
   },
   {
    "duration": 5,
    "start_time": "2021-12-06T07:45:50.659Z"
   },
   {
    "duration": 15,
    "start_time": "2021-12-06T07:45:50.667Z"
   },
   {
    "duration": 8,
    "start_time": "2021-12-06T07:45:50.684Z"
   },
   {
    "duration": 10,
    "start_time": "2021-12-06T07:45:50.694Z"
   },
   {
    "duration": 15,
    "start_time": "2021-12-06T07:46:01.110Z"
   },
   {
    "duration": 16,
    "start_time": "2021-12-06T07:46:03.470Z"
   },
   {
    "duration": 17,
    "start_time": "2021-12-06T07:46:05.747Z"
   },
   {
    "duration": 16,
    "start_time": "2021-12-06T07:46:11.444Z"
   },
   {
    "duration": 388,
    "start_time": "2021-12-06T07:51:36.939Z"
   },
   {
    "duration": 354,
    "start_time": "2021-12-06T07:51:42.390Z"
   },
   {
    "duration": 3,
    "start_time": "2021-12-06T07:51:46.167Z"
   },
   {
    "duration": 255,
    "start_time": "2021-12-06T07:51:46.174Z"
   },
   {
    "duration": 19,
    "start_time": "2021-12-06T07:51:46.433Z"
   },
   {
    "duration": 59,
    "start_time": "2021-12-06T07:51:46.455Z"
   },
   {
    "duration": 11,
    "start_time": "2021-12-06T07:51:46.516Z"
   },
   {
    "duration": 1108,
    "start_time": "2021-12-06T07:51:46.530Z"
   },
   {
    "duration": 336,
    "start_time": "2021-12-06T07:52:45.289Z"
   },
   {
    "duration": 300,
    "start_time": "2021-12-06T07:52:53.279Z"
   },
   {
    "duration": 3108,
    "start_time": "2021-12-06T07:52:50.479Z"
   },
   {
    "duration": 3105,
    "start_time": "2021-12-06T07:52:50.484Z"
   },
   {
    "duration": 3099,
    "start_time": "2021-12-06T07:52:50.493Z"
   },
   {
    "duration": 3099,
    "start_time": "2021-12-06T07:52:50.496Z"
   },
   {
    "duration": 3099,
    "start_time": "2021-12-06T07:52:50.502Z"
   },
   {
    "duration": 3094,
    "start_time": "2021-12-06T07:52:50.508Z"
   },
   {
    "duration": 3091,
    "start_time": "2021-12-06T07:52:50.513Z"
   },
   {
    "duration": 3092,
    "start_time": "2021-12-06T07:52:50.514Z"
   },
   {
    "duration": 3091,
    "start_time": "2021-12-06T07:52:50.516Z"
   },
   {
    "duration": 3091,
    "start_time": "2021-12-06T07:52:50.518Z"
   },
   {
    "duration": 3090,
    "start_time": "2021-12-06T07:52:50.521Z"
   },
   {
    "duration": 3088,
    "start_time": "2021-12-06T07:52:50.525Z"
   },
   {
    "duration": 3085,
    "start_time": "2021-12-06T07:52:50.530Z"
   },
   {
    "duration": 3060,
    "start_time": "2021-12-06T07:52:50.557Z"
   },
   {
    "duration": 3053,
    "start_time": "2021-12-06T07:52:50.566Z"
   },
   {
    "duration": 3050,
    "start_time": "2021-12-06T07:52:50.570Z"
   },
   {
    "duration": 3047,
    "start_time": "2021-12-06T07:52:50.575Z"
   },
   {
    "duration": 3039,
    "start_time": "2021-12-06T07:52:50.584Z"
   },
   {
    "duration": 3089,
    "start_time": "2021-12-06T07:52:50.592Z"
   },
   {
    "duration": 3068,
    "start_time": "2021-12-06T07:52:50.615Z"
   },
   {
    "duration": 3067,
    "start_time": "2021-12-06T07:52:50.618Z"
   },
   {
    "duration": 3067,
    "start_time": "2021-12-06T07:52:50.620Z"
   },
   {
    "duration": 3068,
    "start_time": "2021-12-06T07:52:50.622Z"
   },
   {
    "duration": 3065,
    "start_time": "2021-12-06T07:52:50.627Z"
   },
   {
    "duration": 3065,
    "start_time": "2021-12-06T07:52:50.629Z"
   },
   {
    "duration": 3067,
    "start_time": "2021-12-06T07:52:50.630Z"
   },
   {
    "duration": 3063,
    "start_time": "2021-12-06T07:52:50.636Z"
   },
   {
    "duration": 3061,
    "start_time": "2021-12-06T07:52:50.640Z"
   },
   {
    "duration": 3062,
    "start_time": "2021-12-06T07:52:50.641Z"
   },
   {
    "duration": 3062,
    "start_time": "2021-12-06T07:52:50.643Z"
   },
   {
    "duration": 3063,
    "start_time": "2021-12-06T07:52:50.644Z"
   },
   {
    "duration": 4,
    "start_time": "2021-12-06T07:53:02.387Z"
   },
   {
    "duration": 256,
    "start_time": "2021-12-06T07:53:02.395Z"
   },
   {
    "duration": 17,
    "start_time": "2021-12-06T07:53:02.654Z"
   },
   {
    "duration": 56,
    "start_time": "2021-12-06T07:53:02.673Z"
   },
   {
    "duration": 8,
    "start_time": "2021-12-06T07:53:02.732Z"
   },
   {
    "duration": 1170,
    "start_time": "2021-12-06T07:53:02.742Z"
   },
   {
    "duration": 5,
    "start_time": "2021-12-06T07:54:16.400Z"
   },
   {
    "duration": 207,
    "start_time": "2021-12-06T07:54:16.408Z"
   },
   {
    "duration": 15,
    "start_time": "2021-12-06T07:54:16.618Z"
   },
   {
    "duration": 50,
    "start_time": "2021-12-06T07:54:16.636Z"
   },
   {
    "duration": 7,
    "start_time": "2021-12-06T07:54:16.691Z"
   },
   {
    "duration": 6,
    "start_time": "2021-12-06T07:54:16.701Z"
   },
   {
    "duration": 4,
    "start_time": "2021-12-06T07:55:32.119Z"
   },
   {
    "duration": 230,
    "start_time": "2021-12-06T07:55:32.127Z"
   },
   {
    "duration": 16,
    "start_time": "2021-12-06T07:55:32.360Z"
   },
   {
    "duration": 53,
    "start_time": "2021-12-06T07:55:32.378Z"
   },
   {
    "duration": 7,
    "start_time": "2021-12-06T07:55:32.434Z"
   },
   {
    "duration": 58,
    "start_time": "2021-12-06T07:55:32.444Z"
   },
   {
    "duration": 268,
    "start_time": "2021-12-06T07:55:32.505Z"
   },
   {
    "duration": 3118,
    "start_time": "2021-12-06T07:55:29.671Z"
   },
   {
    "duration": 3116,
    "start_time": "2021-12-06T07:55:29.675Z"
   },
   {
    "duration": 3115,
    "start_time": "2021-12-06T07:55:29.678Z"
   },
   {
    "duration": 3109,
    "start_time": "2021-12-06T07:55:29.687Z"
   },
   {
    "duration": 3107,
    "start_time": "2021-12-06T07:55:29.691Z"
   },
   {
    "duration": 3103,
    "start_time": "2021-12-06T07:55:29.697Z"
   },
   {
    "duration": 3100,
    "start_time": "2021-12-06T07:55:29.701Z"
   },
   {
    "duration": 3093,
    "start_time": "2021-12-06T07:55:29.710Z"
   },
   {
    "duration": 3089,
    "start_time": "2021-12-06T07:55:29.715Z"
   },
   {
    "duration": 3085,
    "start_time": "2021-12-06T07:55:29.720Z"
   },
   {
    "duration": 3083,
    "start_time": "2021-12-06T07:55:29.724Z"
   },
   {
    "duration": 3038,
    "start_time": "2021-12-06T07:55:29.770Z"
   },
   {
    "duration": 3035,
    "start_time": "2021-12-06T07:55:29.775Z"
   },
   {
    "duration": 3031,
    "start_time": "2021-12-06T07:55:29.780Z"
   },
   {
    "duration": 3028,
    "start_time": "2021-12-06T07:55:29.785Z"
   },
   {
    "duration": 3025,
    "start_time": "2021-12-06T07:55:29.790Z"
   },
   {
    "duration": 3002,
    "start_time": "2021-12-06T07:55:29.814Z"
   },
   {
    "duration": 3001,
    "start_time": "2021-12-06T07:55:29.816Z"
   },
   {
    "duration": 3001,
    "start_time": "2021-12-06T07:55:29.818Z"
   },
   {
    "duration": 2997,
    "start_time": "2021-12-06T07:55:29.823Z"
   },
   {
    "duration": 2963,
    "start_time": "2021-12-06T07:55:29.859Z"
   },
   {
    "duration": 2962,
    "start_time": "2021-12-06T07:55:29.861Z"
   },
   {
    "duration": 2962,
    "start_time": "2021-12-06T07:55:29.862Z"
   },
   {
    "duration": 2961,
    "start_time": "2021-12-06T07:55:29.864Z"
   },
   {
    "duration": 2962,
    "start_time": "2021-12-06T07:55:29.865Z"
   },
   {
    "duration": 2961,
    "start_time": "2021-12-06T07:55:29.867Z"
   },
   {
    "duration": 2961,
    "start_time": "2021-12-06T07:55:29.868Z"
   },
   {
    "duration": 3010,
    "start_time": "2021-12-06T07:55:29.872Z"
   },
   {
    "duration": 3010,
    "start_time": "2021-12-06T07:55:29.874Z"
   },
   {
    "duration": 3007,
    "start_time": "2021-12-06T07:55:29.879Z"
   },
   {
    "duration": 3008,
    "start_time": "2021-12-06T07:55:29.881Z"
   },
   {
    "duration": 4,
    "start_time": "2021-12-06T07:55:55.776Z"
   },
   {
    "duration": 197,
    "start_time": "2021-12-06T07:55:55.783Z"
   },
   {
    "duration": 20,
    "start_time": "2021-12-06T07:55:55.984Z"
   },
   {
    "duration": 34,
    "start_time": "2021-12-06T07:55:56.009Z"
   },
   {
    "duration": 43,
    "start_time": "2021-12-06T07:55:56.046Z"
   },
   {
    "duration": 13,
    "start_time": "2021-12-06T07:55:56.092Z"
   },
   {
    "duration": 5,
    "start_time": "2021-12-06T07:56:21.920Z"
   },
   {
    "duration": 272,
    "start_time": "2021-12-06T07:56:21.928Z"
   },
   {
    "duration": 23,
    "start_time": "2021-12-06T07:56:22.203Z"
   },
   {
    "duration": 62,
    "start_time": "2021-12-06T07:56:22.229Z"
   },
   {
    "duration": 6,
    "start_time": "2021-12-06T07:56:22.294Z"
   },
   {
    "duration": 17,
    "start_time": "2021-12-06T07:56:22.303Z"
   },
   {
    "duration": 296,
    "start_time": "2021-12-06T07:57:18.557Z"
   },
   {
    "duration": 4,
    "start_time": "2021-12-06T07:57:47.121Z"
   },
   {
    "duration": 222,
    "start_time": "2021-12-06T07:57:47.128Z"
   },
   {
    "duration": 16,
    "start_time": "2021-12-06T07:57:47.353Z"
   },
   {
    "duration": 49,
    "start_time": "2021-12-06T07:57:47.371Z"
   },
   {
    "duration": 9,
    "start_time": "2021-12-06T07:57:47.423Z"
   },
   {
    "duration": 16,
    "start_time": "2021-12-06T07:57:47.436Z"
   },
   {
    "duration": 3,
    "start_time": "2021-12-06T07:58:23.208Z"
   },
   {
    "duration": 192,
    "start_time": "2021-12-06T07:58:23.215Z"
   },
   {
    "duration": 14,
    "start_time": "2021-12-06T07:58:23.411Z"
   },
   {
    "duration": 34,
    "start_time": "2021-12-06T07:58:23.428Z"
   },
   {
    "duration": 7,
    "start_time": "2021-12-06T07:58:23.482Z"
   },
   {
    "duration": 25,
    "start_time": "2021-12-06T07:58:23.492Z"
   },
   {
    "duration": 3,
    "start_time": "2021-12-06T07:58:32.176Z"
   },
   {
    "duration": 240,
    "start_time": "2021-12-06T07:58:32.182Z"
   },
   {
    "duration": 18,
    "start_time": "2021-12-06T07:58:32.425Z"
   },
   {
    "duration": 68,
    "start_time": "2021-12-06T07:58:32.446Z"
   },
   {
    "duration": 16,
    "start_time": "2021-12-06T07:58:32.517Z"
   },
   {
    "duration": 5,
    "start_time": "2021-12-06T07:58:32.536Z"
   },
   {
    "duration": 12,
    "start_time": "2021-12-06T07:58:32.544Z"
   },
   {
    "duration": 32,
    "start_time": "2021-12-06T08:00:45.252Z"
   },
   {
    "duration": 6,
    "start_time": "2021-12-06T08:01:20.245Z"
   },
   {
    "duration": 7,
    "start_time": "2021-12-06T08:01:33.934Z"
   },
   {
    "duration": 325,
    "start_time": "2021-12-06T08:07:12.139Z"
   },
   {
    "duration": 393,
    "start_time": "2021-12-06T08:07:25.773Z"
   },
   {
    "duration": 6,
    "start_time": "2021-12-06T08:17:03.790Z"
   },
   {
    "duration": 5,
    "start_time": "2021-12-06T08:17:06.980Z"
   },
   {
    "duration": 309,
    "start_time": "2021-12-06T09:00:05.659Z"
   },
   {
    "duration": 289,
    "start_time": "2021-12-06T09:00:19.564Z"
   },
   {
    "duration": 309,
    "start_time": "2021-12-06T09:13:30.099Z"
   },
   {
    "duration": 302,
    "start_time": "2021-12-06T09:16:58.293Z"
   },
   {
    "duration": 334,
    "start_time": "2021-12-06T09:20:23.301Z"
   },
   {
    "duration": 280,
    "start_time": "2021-12-06T09:23:08.596Z"
   },
   {
    "duration": 285,
    "start_time": "2021-12-06T09:23:15.437Z"
   },
   {
    "duration": 316,
    "start_time": "2021-12-06T09:25:04.262Z"
   },
   {
    "duration": 28,
    "start_time": "2021-12-06T09:25:10.973Z"
   },
   {
    "duration": 67,
    "start_time": "2021-12-06T09:29:24.195Z"
   },
   {
    "duration": 40,
    "start_time": "2021-12-06T09:29:51.242Z"
   },
   {
    "duration": 101,
    "start_time": "2021-12-06T09:32:46.164Z"
   },
   {
    "duration": 31,
    "start_time": "2021-12-06T09:32:49.004Z"
   },
   {
    "duration": 155,
    "start_time": "2021-12-06T09:33:27.836Z"
   },
   {
    "duration": 38,
    "start_time": "2021-12-06T09:33:34.492Z"
   },
   {
    "duration": 153,
    "start_time": "2021-12-06T09:34:17.491Z"
   },
   {
    "duration": 31,
    "start_time": "2021-12-06T09:34:21.291Z"
   },
   {
    "duration": 298,
    "start_time": "2021-12-06T09:34:43.187Z"
   },
   {
    "duration": 156,
    "start_time": "2021-12-06T09:36:14.979Z"
   },
   {
    "duration": 51,
    "start_time": "2021-12-06T09:36:17.900Z"
   },
   {
    "duration": 109,
    "start_time": "2021-12-06T09:40:41.786Z"
   },
   {
    "duration": 173,
    "start_time": "2021-12-06T09:40:46.619Z"
   },
   {
    "duration": 36,
    "start_time": "2021-12-06T09:40:49.028Z"
   },
   {
    "duration": 109,
    "start_time": "2021-12-06T11:03:23.472Z"
   },
   {
    "duration": 134,
    "start_time": "2021-12-06T11:03:25.954Z"
   },
   {
    "duration": 36041,
    "start_time": "2021-12-06T11:04:07.487Z"
   },
   {
    "duration": 22,
    "start_time": "2021-12-06T11:04:55.296Z"
   },
   {
    "duration": 15,
    "start_time": "2021-12-06T11:05:32.758Z"
   },
   {
    "duration": 104,
    "start_time": "2021-12-06T11:06:35.034Z"
   },
   {
    "duration": 65,
    "start_time": "2021-12-06T11:06:39.222Z"
   },
   {
    "duration": 11731,
    "start_time": "2021-12-06T11:09:10.215Z"
   },
   {
    "duration": 12388,
    "start_time": "2021-12-06T11:09:36.409Z"
   },
   {
    "duration": 12025,
    "start_time": "2021-12-06T11:12:20.797Z"
   },
   {
    "duration": 11901,
    "start_time": "2021-12-06T11:12:51.370Z"
   },
   {
    "duration": 102,
    "start_time": "2021-12-06T11:21:53.683Z"
   },
   {
    "duration": 34,
    "start_time": "2021-12-06T11:22:01.732Z"
   },
   {
    "duration": 7913,
    "start_time": "2021-12-06T11:30:32.174Z"
   },
   {
    "duration": -42,
    "start_time": "2021-12-06T11:30:40.135Z"
   },
   {
    "duration": 90,
    "start_time": "2021-12-06T11:31:41.071Z"
   },
   {
    "duration": 2080,
    "start_time": "2021-12-06T11:31:46.454Z"
   },
   {
    "duration": 38,
    "start_time": "2021-12-06T11:31:48.537Z"
   },
   {
    "duration": 2047,
    "start_time": "2021-12-06T13:12:03.715Z"
   },
   {
    "duration": 38,
    "start_time": "2021-12-06T13:12:05.905Z"
   },
   {
    "duration": 7201,
    "start_time": "2021-12-06T13:12:21.459Z"
   },
   {
    "duration": -33,
    "start_time": "2021-12-06T13:12:28.698Z"
   },
   {
    "duration": 421,
    "start_time": "2021-12-06T13:13:30.365Z"
   },
   {
    "duration": 2020,
    "start_time": "2021-12-06T13:15:49.219Z"
   },
   {
    "duration": 33,
    "start_time": "2021-12-06T13:15:51.283Z"
   },
   {
    "duration": 2032,
    "start_time": "2021-12-06T13:16:03.539Z"
   },
   {
    "duration": 30,
    "start_time": "2021-12-06T13:16:05.659Z"
   },
   {
    "duration": 354,
    "start_time": "2021-12-06T13:19:48.779Z"
   },
   {
    "duration": 2110,
    "start_time": "2021-12-06T13:21:56.379Z"
   },
   {
    "duration": 37,
    "start_time": "2021-12-06T13:21:58.722Z"
   },
   {
    "duration": 2013,
    "start_time": "2021-12-06T13:26:51.410Z"
   },
   {
    "duration": 30,
    "start_time": "2021-12-06T13:26:54.370Z"
   },
   {
    "duration": 2029,
    "start_time": "2021-12-06T13:28:24.594Z"
   },
   {
    "duration": 1975,
    "start_time": "2021-12-06T13:28:26.978Z"
   },
   {
    "duration": 38,
    "start_time": "2021-12-06T13:28:29.513Z"
   },
   {
    "duration": 2142,
    "start_time": "2021-12-06T13:29:18.345Z"
   },
   {
    "duration": 15,
    "start_time": "2021-12-06T13:29:20.811Z"
   },
   {
    "duration": 310,
    "start_time": "2021-12-06T13:30:06.123Z"
   },
   {
    "duration": 2129,
    "start_time": "2021-12-06T13:30:58.218Z"
   },
   {
    "duration": 29,
    "start_time": "2021-12-06T13:31:00.681Z"
   },
   {
    "duration": 326,
    "start_time": "2021-12-06T13:38:18.691Z"
   },
   {
    "duration": 328,
    "start_time": "2021-12-07T07:05:57.430Z"
   },
   {
    "duration": 783,
    "start_time": "2021-12-07T07:06:08.436Z"
   },
   {
    "duration": 205,
    "start_time": "2021-12-07T07:06:09.222Z"
   },
   {
    "duration": 36,
    "start_time": "2021-12-07T07:06:09.431Z"
   },
   {
    "duration": 33,
    "start_time": "2021-12-07T07:06:09.470Z"
   },
   {
    "duration": 5,
    "start_time": "2021-12-07T07:06:09.505Z"
   },
   {
    "duration": 5,
    "start_time": "2021-12-07T07:06:09.512Z"
   },
   {
    "duration": 8,
    "start_time": "2021-12-07T07:06:09.519Z"
   },
   {
    "duration": 38,
    "start_time": "2021-12-07T07:06:09.530Z"
   },
   {
    "duration": 339,
    "start_time": "2021-12-07T07:06:13.448Z"
   },
   {
    "duration": 66,
    "start_time": "2021-12-07T07:06:33.000Z"
   },
   {
    "duration": 32,
    "start_time": "2021-12-07T07:06:36.723Z"
   },
   {
    "duration": 334,
    "start_time": "2021-12-07T07:07:08.903Z"
   },
   {
    "duration": 88,
    "start_time": "2021-12-07T07:07:16.534Z"
   },
   {
    "duration": 89,
    "start_time": "2021-12-07T07:10:06.209Z"
   },
   {
    "duration": 82,
    "start_time": "2021-12-07T07:10:36.233Z"
   },
   {
    "duration": 95,
    "start_time": "2021-12-07T07:12:13.947Z"
   },
   {
    "duration": 79,
    "start_time": "2021-12-07T07:12:18.615Z"
   },
   {
    "duration": 271,
    "start_time": "2021-12-07T07:14:15.845Z"
   },
   {
    "duration": 317,
    "start_time": "2021-12-07T07:14:59.327Z"
   },
   {
    "duration": 78,
    "start_time": "2021-12-07T07:15:07.640Z"
   },
   {
    "duration": 295,
    "start_time": "2021-12-07T07:15:30.303Z"
   },
   {
    "duration": 7,
    "start_time": "2021-12-07T07:15:57.141Z"
   },
   {
    "duration": 280,
    "start_time": "2021-12-07T07:16:19.609Z"
   },
   {
    "duration": 4,
    "start_time": "2021-12-07T07:17:04.336Z"
   },
   {
    "duration": 4,
    "start_time": "2021-12-07T07:17:07.181Z"
   },
   {
    "duration": 4,
    "start_time": "2021-12-07T07:17:20.816Z"
   },
   {
    "duration": 7,
    "start_time": "2021-12-07T07:19:54.855Z"
   },
   {
    "duration": 10,
    "start_time": "2021-12-07T07:21:03.920Z"
   },
   {
    "duration": 369,
    "start_time": "2021-12-07T07:21:58.574Z"
   },
   {
    "duration": 282,
    "start_time": "2021-12-07T07:22:04.536Z"
   },
   {
    "duration": 3,
    "start_time": "2021-12-07T07:22:24.817Z"
   },
   {
    "duration": 4,
    "start_time": "2021-12-07T07:22:27.773Z"
   },
   {
    "duration": 278,
    "start_time": "2021-12-07T07:22:59.737Z"
   },
   {
    "duration": 286,
    "start_time": "2021-12-07T07:24:02.314Z"
   },
   {
    "duration": 3,
    "start_time": "2021-12-07T07:24:07.293Z"
   },
   {
    "duration": 7,
    "start_time": "2021-12-07T07:24:14.360Z"
   },
   {
    "duration": 7,
    "start_time": "2021-12-07T07:24:25.036Z"
   },
   {
    "duration": 4,
    "start_time": "2021-12-07T07:26:15.514Z"
   },
   {
    "duration": 4,
    "start_time": "2021-12-07T07:26:20.806Z"
   },
   {
    "duration": 6,
    "start_time": "2021-12-07T07:27:15.797Z"
   },
   {
    "duration": 4,
    "start_time": "2021-12-07T07:27:36.173Z"
   },
   {
    "duration": 66,
    "start_time": "2021-12-07T07:32:32.258Z"
   },
   {
    "duration": 89,
    "start_time": "2021-12-07T07:32:41.927Z"
   },
   {
    "duration": 79,
    "start_time": "2021-12-07T07:33:41.059Z"
   },
   {
    "duration": 79,
    "start_time": "2021-12-07T07:42:54.835Z"
   },
   {
    "duration": 73,
    "start_time": "2021-12-07T07:43:29.301Z"
   },
   {
    "duration": 95,
    "start_time": "2021-12-07T07:44:27.383Z"
   },
   {
    "duration": 4,
    "start_time": "2021-12-07T07:44:39.945Z"
   },
   {
    "duration": 18,
    "start_time": "2021-12-07T07:44:41.803Z"
   },
   {
    "duration": 57,
    "start_time": "2021-12-07T07:44:44.152Z"
   },
   {
    "duration": 7,
    "start_time": "2021-12-07T07:50:42.373Z"
   },
   {
    "duration": 13,
    "start_time": "2021-12-07T07:53:48.908Z"
   },
   {
    "duration": 3,
    "start_time": "2021-12-07T07:54:44.202Z"
   },
   {
    "duration": 209,
    "start_time": "2021-12-07T07:54:44.212Z"
   },
   {
    "duration": 15,
    "start_time": "2021-12-07T07:54:44.424Z"
   },
   {
    "duration": 54,
    "start_time": "2021-12-07T07:54:44.442Z"
   },
   {
    "duration": 6,
    "start_time": "2021-12-07T07:54:44.499Z"
   },
   {
    "duration": 14,
    "start_time": "2021-12-07T07:54:44.508Z"
   },
   {
    "duration": 22,
    "start_time": "2021-12-07T07:54:44.525Z"
   },
   {
    "duration": 59,
    "start_time": "2021-12-07T07:54:44.550Z"
   },
   {
    "duration": 66,
    "start_time": "2021-12-07T07:54:44.613Z"
   },
   {
    "duration": 34,
    "start_time": "2021-12-07T07:54:44.682Z"
   },
   {
    "duration": 101,
    "start_time": "2021-12-07T07:54:44.718Z"
   },
   {
    "duration": 106,
    "start_time": "2021-12-07T07:54:44.822Z"
   },
   {
    "duration": 87,
    "start_time": "2021-12-07T07:54:44.931Z"
   },
   {
    "duration": 3,
    "start_time": "2021-12-07T07:54:52.675Z"
   },
   {
    "duration": 213,
    "start_time": "2021-12-07T07:54:52.684Z"
   },
   {
    "duration": 16,
    "start_time": "2021-12-07T07:54:52.899Z"
   },
   {
    "duration": 51,
    "start_time": "2021-12-07T07:54:52.918Z"
   },
   {
    "duration": 9,
    "start_time": "2021-12-07T07:54:52.972Z"
   },
   {
    "duration": 5,
    "start_time": "2021-12-07T07:54:52.984Z"
   },
   {
    "duration": 12,
    "start_time": "2021-12-07T07:54:52.991Z"
   },
   {
    "duration": 32,
    "start_time": "2021-12-07T07:54:53.005Z"
   },
   {
    "duration": 57,
    "start_time": "2021-12-07T07:54:53.067Z"
   },
   {
    "duration": 43,
    "start_time": "2021-12-07T07:54:53.127Z"
   },
   {
    "duration": 102,
    "start_time": "2021-12-07T07:54:53.172Z"
   },
   {
    "duration": 109,
    "start_time": "2021-12-07T07:54:53.276Z"
   },
   {
    "duration": 87,
    "start_time": "2021-12-07T07:54:53.387Z"
   },
   {
    "duration": 14,
    "start_time": "2021-12-07T07:54:53.476Z"
   },
   {
    "duration": 16,
    "start_time": "2021-12-07T07:55:12.739Z"
   },
   {
    "duration": 3,
    "start_time": "2021-12-07T07:55:25.648Z"
   },
   {
    "duration": 312,
    "start_time": "2021-12-07T07:55:25.658Z"
   },
   {
    "duration": 23,
    "start_time": "2021-12-07T07:55:25.973Z"
   },
   {
    "duration": 39,
    "start_time": "2021-12-07T07:55:25.999Z"
   },
   {
    "duration": 31,
    "start_time": "2021-12-07T07:55:26.041Z"
   },
   {
    "duration": 5,
    "start_time": "2021-12-07T07:55:26.075Z"
   },
   {
    "duration": 8,
    "start_time": "2021-12-07T07:55:26.083Z"
   },
   {
    "duration": 74,
    "start_time": "2021-12-07T07:55:26.094Z"
   },
   {
    "duration": 57,
    "start_time": "2021-12-07T07:55:26.172Z"
   },
   {
    "duration": 46,
    "start_time": "2021-12-07T07:55:26.232Z"
   },
   {
    "duration": 106,
    "start_time": "2021-12-07T07:55:26.281Z"
   },
   {
    "duration": 112,
    "start_time": "2021-12-07T07:55:26.390Z"
   },
   {
    "duration": 93,
    "start_time": "2021-12-07T07:55:26.504Z"
   },
   {
    "duration": 14,
    "start_time": "2021-12-07T07:55:26.600Z"
   },
   {
    "duration": 4,
    "start_time": "2021-12-07T07:55:26.617Z"
   },
   {
    "duration": 44,
    "start_time": "2021-12-07T07:55:26.624Z"
   },
   {
    "duration": 15,
    "start_time": "2021-12-07T07:55:26.671Z"
   },
   {
    "duration": 14,
    "start_time": "2021-12-07T08:00:11.231Z"
   },
   {
    "duration": 16,
    "start_time": "2021-12-07T08:00:28.702Z"
   },
   {
    "duration": 279,
    "start_time": "2021-12-07T08:02:38.476Z"
   },
   {
    "duration": 15,
    "start_time": "2021-12-07T08:03:00.008Z"
   },
   {
    "duration": 262,
    "start_time": "2021-12-07T08:17:52.221Z"
   },
   {
    "duration": 83,
    "start_time": "2021-12-07T08:17:57.188Z"
   },
   {
    "duration": 98,
    "start_time": "2021-12-07T08:18:08.292Z"
   },
   {
    "duration": 112,
    "start_time": "2021-12-07T08:18:26.737Z"
   },
   {
    "duration": 5,
    "start_time": "2021-12-07T08:18:36.426Z"
   },
   {
    "duration": -231,
    "start_time": "2021-12-07T08:18:47.968Z"
   },
   {
    "duration": 3,
    "start_time": "2021-12-07T08:18:50.724Z"
   },
   {
    "duration": 843,
    "start_time": "2021-12-07T08:18:50.737Z"
   },
   {
    "duration": 15,
    "start_time": "2021-12-07T08:18:51.583Z"
   },
   {
    "duration": 44,
    "start_time": "2021-12-07T08:18:51.602Z"
   },
   {
    "duration": 7,
    "start_time": "2021-12-07T08:18:51.669Z"
   },
   {
    "duration": 29,
    "start_time": "2021-12-07T08:18:51.680Z"
   },
   {
    "duration": 23,
    "start_time": "2021-12-07T08:18:51.712Z"
   },
   {
    "duration": 54,
    "start_time": "2021-12-07T08:18:51.739Z"
   },
   {
    "duration": 82,
    "start_time": "2021-12-07T08:18:51.799Z"
   },
   {
    "duration": 34,
    "start_time": "2021-12-07T08:18:51.884Z"
   },
   {
    "duration": 124,
    "start_time": "2021-12-07T08:18:51.921Z"
   },
   {
    "duration": 110,
    "start_time": "2021-12-07T08:18:52.047Z"
   },
   {
    "duration": 80,
    "start_time": "2021-12-07T08:18:52.168Z"
   },
   {
    "duration": 25,
    "start_time": "2021-12-07T08:18:52.251Z"
   },
   {
    "duration": 4,
    "start_time": "2021-12-07T08:18:52.279Z"
   },
   {
    "duration": 24,
    "start_time": "2021-12-07T08:18:52.285Z"
   },
   {
    "duration": 23,
    "start_time": "2021-12-07T08:18:52.311Z"
   },
   {
    "duration": 16,
    "start_time": "2021-12-07T08:18:52.368Z"
   },
   {
    "duration": 18,
    "start_time": "2021-12-07T08:18:52.386Z"
   },
   {
    "duration": 10,
    "start_time": "2021-12-07T08:18:52.406Z"
   },
   {
    "duration": 7689,
    "start_time": "2021-12-07T08:18:52.418Z"
   },
   {
    "duration": 7458,
    "start_time": "2021-12-07T08:19:11.379Z"
   },
   {
    "duration": 8390,
    "start_time": "2021-12-07T08:20:39.812Z"
   },
   {
    "duration": 7534,
    "start_time": "2021-12-07T08:21:03.983Z"
   },
   {
    "duration": 98,
    "start_time": "2021-12-07T08:21:58.733Z"
   },
   {
    "duration": 6,
    "start_time": "2021-12-07T08:22:05.849Z"
   },
   {
    "duration": 7533,
    "start_time": "2021-12-07T08:22:27.129Z"
   },
   {
    "duration": 7094,
    "start_time": "2021-12-07T08:23:42.689Z"
   },
   {
    "duration": 8240,
    "start_time": "2021-12-07T08:25:27.479Z"
   },
   {
    "duration": 7250,
    "start_time": "2021-12-07T08:27:35.392Z"
   },
   {
    "duration": 8832,
    "start_time": "2021-12-07T08:29:07.827Z"
   },
   {
    "duration": 5,
    "start_time": "2021-12-07T08:29:30.817Z"
   },
   {
    "duration": 7344,
    "start_time": "2021-12-07T08:29:55.140Z"
   },
   {
    "duration": 7153,
    "start_time": "2021-12-07T08:30:58.459Z"
   },
   {
    "duration": 732,
    "start_time": "2021-12-07T08:34:07.219Z"
   },
   {
    "duration": 205,
    "start_time": "2021-12-07T08:34:07.953Z"
   },
   {
    "duration": 26,
    "start_time": "2021-12-07T08:34:08.161Z"
   },
   {
    "duration": 32,
    "start_time": "2021-12-07T08:34:08.190Z"
   },
   {
    "duration": 43,
    "start_time": "2021-12-07T08:34:08.224Z"
   },
   {
    "duration": 6,
    "start_time": "2021-12-07T08:34:08.270Z"
   },
   {
    "duration": 32,
    "start_time": "2021-12-07T08:34:08.279Z"
   },
   {
    "duration": 45,
    "start_time": "2021-12-07T08:34:08.315Z"
   },
   {
    "duration": 68,
    "start_time": "2021-12-07T08:34:08.366Z"
   },
   {
    "duration": 48,
    "start_time": "2021-12-07T08:34:08.436Z"
   },
   {
    "duration": 112,
    "start_time": "2021-12-07T08:34:08.486Z"
   },
   {
    "duration": 122,
    "start_time": "2021-12-07T08:34:08.600Z"
   },
   {
    "duration": 91,
    "start_time": "2021-12-07T08:34:08.724Z"
   },
   {
    "duration": 16,
    "start_time": "2021-12-07T08:34:08.818Z"
   },
   {
    "duration": 32,
    "start_time": "2021-12-07T08:34:08.837Z"
   },
   {
    "duration": 43,
    "start_time": "2021-12-07T08:34:08.871Z"
   },
   {
    "duration": 36,
    "start_time": "2021-12-07T08:34:08.916Z"
   },
   {
    "duration": 20,
    "start_time": "2021-12-07T08:34:08.954Z"
   },
   {
    "duration": 18,
    "start_time": "2021-12-07T08:34:08.977Z"
   },
   {
    "duration": 11,
    "start_time": "2021-12-07T08:34:08.997Z"
   },
   {
    "duration": 9384,
    "start_time": "2021-12-07T08:34:09.010Z"
   },
   {
    "duration": -272,
    "start_time": "2021-12-07T08:34:18.670Z"
   },
   {
    "duration": -286,
    "start_time": "2021-12-07T08:34:18.685Z"
   },
   {
    "duration": -296,
    "start_time": "2021-12-07T08:34:18.696Z"
   },
   {
    "duration": -305,
    "start_time": "2021-12-07T08:34:18.707Z"
   },
   {
    "duration": -329,
    "start_time": "2021-12-07T08:34:18.733Z"
   },
   {
    "duration": -355,
    "start_time": "2021-12-07T08:34:18.760Z"
   },
   {
    "duration": -366,
    "start_time": "2021-12-07T08:34:18.772Z"
   },
   {
    "duration": -374,
    "start_time": "2021-12-07T08:34:18.782Z"
   },
   {
    "duration": -383,
    "start_time": "2021-12-07T08:34:18.792Z"
   },
   {
    "duration": -392,
    "start_time": "2021-12-07T08:34:18.802Z"
   },
   {
    "duration": -399,
    "start_time": "2021-12-07T08:34:18.811Z"
   },
   {
    "duration": -407,
    "start_time": "2021-12-07T08:34:18.820Z"
   },
   {
    "duration": -414,
    "start_time": "2021-12-07T08:34:18.829Z"
   },
   {
    "duration": -423,
    "start_time": "2021-12-07T08:34:18.839Z"
   },
   {
    "duration": -429,
    "start_time": "2021-12-07T08:34:18.847Z"
   },
   {
    "duration": -454,
    "start_time": "2021-12-07T08:34:18.873Z"
   },
   {
    "duration": -462,
    "start_time": "2021-12-07T08:34:18.883Z"
   },
   {
    "duration": 7507,
    "start_time": "2021-12-07T08:36:51.914Z"
   },
   {
    "duration": 4,
    "start_time": "2021-12-07T08:37:09.664Z"
   },
   {
    "duration": 229,
    "start_time": "2021-12-07T08:37:09.677Z"
   },
   {
    "duration": 17,
    "start_time": "2021-12-07T08:37:09.908Z"
   },
   {
    "duration": 58,
    "start_time": "2021-12-07T08:37:09.928Z"
   },
   {
    "duration": 12,
    "start_time": "2021-12-07T08:37:09.989Z"
   },
   {
    "duration": 18,
    "start_time": "2021-12-07T08:37:10.003Z"
   },
   {
    "duration": 15,
    "start_time": "2021-12-07T08:37:10.024Z"
   },
   {
    "duration": 49,
    "start_time": "2021-12-07T08:37:10.041Z"
   },
   {
    "duration": 79,
    "start_time": "2021-12-07T08:37:10.094Z"
   },
   {
    "duration": 31,
    "start_time": "2021-12-07T08:37:10.176Z"
   },
   {
    "duration": 109,
    "start_time": "2021-12-07T08:37:10.210Z"
   },
   {
    "duration": 108,
    "start_time": "2021-12-07T08:37:10.321Z"
   },
   {
    "duration": 92,
    "start_time": "2021-12-07T08:37:10.431Z"
   },
   {
    "duration": 14,
    "start_time": "2021-12-07T08:37:10.525Z"
   },
   {
    "duration": 4,
    "start_time": "2021-12-07T08:37:10.541Z"
   },
   {
    "duration": 15,
    "start_time": "2021-12-07T08:37:10.567Z"
   },
   {
    "duration": 14,
    "start_time": "2021-12-07T08:37:10.584Z"
   },
   {
    "duration": 16,
    "start_time": "2021-12-07T08:37:10.600Z"
   },
   {
    "duration": 61,
    "start_time": "2021-12-07T08:37:10.618Z"
   },
   {
    "duration": 5,
    "start_time": "2021-12-07T08:37:10.682Z"
   },
   {
    "duration": 7877,
    "start_time": "2021-12-07T08:37:10.689Z"
   },
   {
    "duration": 6,
    "start_time": "2021-12-07T08:44:10.377Z"
   },
   {
    "duration": 23,
    "start_time": "2021-12-07T08:44:13.518Z"
   },
   {
    "duration": 4,
    "start_time": "2021-12-07T08:44:39.265Z"
   },
   {
    "duration": 7619,
    "start_time": "2021-12-07T08:44:42.126Z"
   },
   {
    "duration": 5,
    "start_time": "2021-12-07T08:46:03.828Z"
   },
   {
    "duration": 22,
    "start_time": "2021-12-07T08:46:08.971Z"
   },
   {
    "duration": 89,
    "start_time": "2021-12-07T08:49:11.079Z"
   },
   {
    "duration": 89,
    "start_time": "2021-12-07T08:49:23.805Z"
   },
   {
    "duration": 113,
    "start_time": "2021-12-07T08:52:32.538Z"
   },
   {
    "duration": 98,
    "start_time": "2021-12-07T08:52:35.699Z"
   },
   {
    "duration": 101,
    "start_time": "2021-12-07T08:52:57.475Z"
   },
   {
    "duration": 103,
    "start_time": "2021-12-07T08:58:21.156Z"
   },
   {
    "duration": 850,
    "start_time": "2021-12-07T08:58:28.579Z"
   },
   {
    "duration": 490,
    "start_time": "2021-12-07T08:58:47.544Z"
   },
   {
    "duration": 289,
    "start_time": "2021-12-07T08:59:03.663Z"
   },
   {
    "duration": 315,
    "start_time": "2021-12-07T08:59:39.894Z"
   },
   {
    "duration": 185,
    "start_time": "2021-12-07T09:00:55.260Z"
   },
   {
    "duration": 183,
    "start_time": "2021-12-07T09:01:09.911Z"
   },
   {
    "duration": 273,
    "start_time": "2021-12-07T09:01:37.767Z"
   },
   {
    "duration": 204,
    "start_time": "2021-12-07T09:01:44.588Z"
   },
   {
    "duration": 3,
    "start_time": "2021-12-07T09:02:27.633Z"
   },
   {
    "duration": 227,
    "start_time": "2021-12-07T09:02:27.645Z"
   },
   {
    "duration": 15,
    "start_time": "2021-12-07T09:02:27.875Z"
   },
   {
    "duration": 57,
    "start_time": "2021-12-07T09:02:27.893Z"
   },
   {
    "duration": 27,
    "start_time": "2021-12-07T09:02:27.952Z"
   },
   {
    "duration": 29,
    "start_time": "2021-12-07T09:02:27.982Z"
   },
   {
    "duration": 25,
    "start_time": "2021-12-07T09:02:28.013Z"
   },
   {
    "duration": 56,
    "start_time": "2021-12-07T09:02:28.040Z"
   },
   {
    "duration": 77,
    "start_time": "2021-12-07T09:02:28.100Z"
   },
   {
    "duration": 30,
    "start_time": "2021-12-07T09:02:28.180Z"
   },
   {
    "duration": 112,
    "start_time": "2021-12-07T09:02:28.213Z"
   },
   {
    "duration": 107,
    "start_time": "2021-12-07T09:02:28.327Z"
   },
   {
    "duration": 91,
    "start_time": "2021-12-07T09:02:28.437Z"
   },
   {
    "duration": 14,
    "start_time": "2021-12-07T09:02:28.531Z"
   },
   {
    "duration": 5,
    "start_time": "2021-12-07T09:02:28.567Z"
   },
   {
    "duration": 26,
    "start_time": "2021-12-07T09:02:28.574Z"
   },
   {
    "duration": 41,
    "start_time": "2021-12-07T09:02:28.602Z"
   },
   {
    "duration": 32,
    "start_time": "2021-12-07T09:02:28.645Z"
   },
   {
    "duration": 25,
    "start_time": "2021-12-07T09:02:28.680Z"
   },
   {
    "duration": 8,
    "start_time": "2021-12-07T09:02:28.708Z"
   },
   {
    "duration": 201,
    "start_time": "2021-12-07T09:02:28.718Z"
   },
   {
    "duration": 340,
    "start_time": "2021-12-07T09:02:28.922Z"
   },
   {
    "duration": 301,
    "start_time": "2021-12-07T09:03:15.029Z"
   },
   {
    "duration": 193,
    "start_time": "2021-12-07T09:03:23.268Z"
   },
   {
    "duration": 322,
    "start_time": "2021-12-07T09:04:31.163Z"
   },
   {
    "duration": 180,
    "start_time": "2021-12-07T09:06:56.275Z"
   },
   {
    "duration": 185,
    "start_time": "2021-12-07T09:07:50.828Z"
   },
   {
    "duration": 194,
    "start_time": "2021-12-07T09:08:07.526Z"
   },
   {
    "duration": 179,
    "start_time": "2021-12-07T09:08:16.409Z"
   },
   {
    "duration": 179,
    "start_time": "2021-12-07T09:09:48.578Z"
   },
   {
    "duration": 183,
    "start_time": "2021-12-07T09:10:11.850Z"
   },
   {
    "duration": 207,
    "start_time": "2021-12-07T09:10:21.663Z"
   },
   {
    "duration": 191,
    "start_time": "2021-12-07T09:12:00.078Z"
   },
   {
    "duration": 181,
    "start_time": "2021-12-07T09:12:28.629Z"
   },
   {
    "duration": 184,
    "start_time": "2021-12-07T09:12:44.035Z"
   },
   {
    "duration": 181,
    "start_time": "2021-12-07T09:12:57.872Z"
   },
   {
    "duration": 195,
    "start_time": "2021-12-07T09:14:19.383Z"
   },
   {
    "duration": 173,
    "start_time": "2021-12-07T09:14:51.948Z"
   },
   {
    "duration": 179,
    "start_time": "2021-12-07T09:15:00.188Z"
   },
   {
    "duration": 290,
    "start_time": "2021-12-07T09:15:23.688Z"
   },
   {
    "duration": 207,
    "start_time": "2021-12-07T09:16:42.320Z"
   },
   {
    "duration": 186,
    "start_time": "2021-12-07T09:17:20.367Z"
   },
   {
    "duration": 5,
    "start_time": "2021-12-07T09:17:45.147Z"
   },
   {
    "duration": 12,
    "start_time": "2021-12-07T09:17:53.308Z"
   },
   {
    "duration": 142,
    "start_time": "2021-12-07T09:54:43.299Z"
   },
   {
    "duration": 12,
    "start_time": "2021-12-07T09:55:42.636Z"
   },
   {
    "duration": 6,
    "start_time": "2021-12-07T10:02:36.312Z"
   },
   {
    "duration": 5,
    "start_time": "2021-12-07T10:02:40.510Z"
   },
   {
    "duration": 9,
    "start_time": "2021-12-07T10:02:58.536Z"
   },
   {
    "duration": 13,
    "start_time": "2021-12-07T10:03:05.505Z"
   },
   {
    "duration": 93,
    "start_time": "2021-12-07T10:04:57.253Z"
   },
   {
    "duration": 14,
    "start_time": "2021-12-07T10:05:03.258Z"
   },
   {
    "duration": 18,
    "start_time": "2021-12-07T10:05:05.460Z"
   },
   {
    "duration": 20,
    "start_time": "2021-12-07T10:05:17.225Z"
   },
   {
    "duration": 17,
    "start_time": "2021-12-07T10:05:20.453Z"
   },
   {
    "duration": 4,
    "start_time": "2021-12-07T10:05:27.785Z"
   },
   {
    "duration": 193,
    "start_time": "2021-12-07T10:05:27.798Z"
   },
   {
    "duration": 16,
    "start_time": "2021-12-07T10:05:27.994Z"
   },
   {
    "duration": 67,
    "start_time": "2021-12-07T10:05:28.013Z"
   },
   {
    "duration": 16,
    "start_time": "2021-12-07T10:05:28.082Z"
   },
   {
    "duration": 33,
    "start_time": "2021-12-07T10:05:28.101Z"
   },
   {
    "duration": 14,
    "start_time": "2021-12-07T10:05:28.136Z"
   },
   {
    "duration": 61,
    "start_time": "2021-12-07T10:05:28.152Z"
   },
   {
    "duration": 58,
    "start_time": "2021-12-07T10:05:28.217Z"
   },
   {
    "duration": 29,
    "start_time": "2021-12-07T10:05:28.279Z"
   },
   {
    "duration": 105,
    "start_time": "2021-12-07T10:05:28.311Z"
   },
   {
    "duration": 111,
    "start_time": "2021-12-07T10:05:28.418Z"
   },
   {
    "duration": 91,
    "start_time": "2021-12-07T10:05:28.531Z"
   },
   {
    "duration": 14,
    "start_time": "2021-12-07T10:05:28.624Z"
   },
   {
    "duration": 4,
    "start_time": "2021-12-07T10:05:28.640Z"
   },
   {
    "duration": 33,
    "start_time": "2021-12-07T10:05:28.646Z"
   },
   {
    "duration": 19,
    "start_time": "2021-12-07T10:05:28.681Z"
   },
   {
    "duration": 15,
    "start_time": "2021-12-07T10:05:28.703Z"
   },
   {
    "duration": 57,
    "start_time": "2021-12-07T10:05:28.720Z"
   },
   {
    "duration": 5,
    "start_time": "2021-12-07T10:05:28.779Z"
   },
   {
    "duration": 206,
    "start_time": "2021-12-07T10:05:28.787Z"
   },
   {
    "duration": 12,
    "start_time": "2021-12-07T10:05:28.996Z"
   },
   {
    "duration": 38,
    "start_time": "2021-12-07T10:05:29.011Z"
   },
   {
    "duration": 280,
    "start_time": "2021-12-07T10:06:05.720Z"
   },
   {
    "duration": 19,
    "start_time": "2021-12-07T10:06:11.866Z"
   },
   {
    "duration": 38,
    "start_time": "2021-12-07T10:07:10.470Z"
   },
   {
    "duration": 26,
    "start_time": "2021-12-07T10:08:19.716Z"
   },
   {
    "duration": 86,
    "start_time": "2021-12-07T10:18:46.548Z"
   },
   {
    "duration": 6,
    "start_time": "2021-12-07T10:18:52.171Z"
   },
   {
    "duration": 1143,
    "start_time": "2021-12-07T10:21:29.930Z"
   },
   {
    "duration": 5,
    "start_time": "2021-12-07T10:21:59.734Z"
   },
   {
    "duration": 733,
    "start_time": "2021-12-07T10:22:02.059Z"
   },
   {
    "duration": 6,
    "start_time": "2021-12-07T10:22:31.558Z"
   },
   {
    "duration": 27,
    "start_time": "2021-12-07T10:22:34.387Z"
   },
   {
    "duration": 163,
    "start_time": "2021-12-07T10:29:35.437Z"
   },
   {
    "duration": 161,
    "start_time": "2021-12-07T10:29:37.821Z"
   },
   {
    "duration": 166,
    "start_time": "2021-12-07T10:29:48.494Z"
   },
   {
    "duration": 180,
    "start_time": "2021-12-07T10:32:00.895Z"
   },
   {
    "duration": 169,
    "start_time": "2021-12-07T10:33:10.446Z"
   },
   {
    "duration": 269,
    "start_time": "2021-12-07T10:35:36.316Z"
   },
   {
    "duration": 277,
    "start_time": "2021-12-07T10:35:54.037Z"
   },
   {
    "duration": 140,
    "start_time": "2021-12-07T10:36:42.664Z"
   },
   {
    "duration": 140,
    "start_time": "2021-12-07T10:38:24.258Z"
   },
   {
    "duration": 122,
    "start_time": "2021-12-07T10:38:38.931Z"
   },
   {
    "duration": 80,
    "start_time": "2021-12-07T10:44:22.477Z"
   },
   {
    "duration": 25,
    "start_time": "2021-12-07T10:45:43.079Z"
   },
   {
    "duration": 18,
    "start_time": "2021-12-07T10:46:06.138Z"
   },
   {
    "duration": 23,
    "start_time": "2021-12-07T10:46:35.345Z"
   },
   {
    "duration": 18,
    "start_time": "2021-12-07T10:47:09.229Z"
   },
   {
    "duration": 14,
    "start_time": "2021-12-07T10:49:43.935Z"
   },
   {
    "duration": 299,
    "start_time": "2021-12-07T10:49:50.931Z"
   },
   {
    "duration": 276,
    "start_time": "2021-12-07T10:51:30.338Z"
   },
   {
    "duration": 7,
    "start_time": "2021-12-07T10:51:55.009Z"
   },
   {
    "duration": 7,
    "start_time": "2021-12-07T10:52:59.932Z"
   },
   {
    "duration": 5,
    "start_time": "2021-12-07T10:53:25.871Z"
   },
   {
    "duration": 7,
    "start_time": "2021-12-07T10:53:40.836Z"
   },
   {
    "duration": 266,
    "start_time": "2021-12-07T10:53:57.656Z"
   },
   {
    "duration": 5,
    "start_time": "2021-12-07T10:54:33.121Z"
   },
   {
    "duration": 283,
    "start_time": "2021-12-07T10:54:33.136Z"
   },
   {
    "duration": 19,
    "start_time": "2021-12-07T10:54:33.422Z"
   },
   {
    "duration": 35,
    "start_time": "2021-12-07T10:54:33.468Z"
   },
   {
    "duration": 6,
    "start_time": "2021-12-07T10:54:33.507Z"
   },
   {
    "duration": 9,
    "start_time": "2021-12-07T10:54:33.515Z"
   },
   {
    "duration": 44,
    "start_time": "2021-12-07T10:54:33.527Z"
   },
   {
    "duration": 50,
    "start_time": "2021-12-07T10:54:33.573Z"
   },
   {
    "duration": 80,
    "start_time": "2021-12-07T10:54:33.628Z"
   },
   {
    "duration": 57,
    "start_time": "2021-12-07T10:54:33.712Z"
   },
   {
    "duration": 111,
    "start_time": "2021-12-07T10:54:33.773Z"
   },
   {
    "duration": 123,
    "start_time": "2021-12-07T10:54:33.888Z"
   },
   {
    "duration": 99,
    "start_time": "2021-12-07T10:54:34.014Z"
   },
   {
    "duration": 15,
    "start_time": "2021-12-07T10:54:34.115Z"
   },
   {
    "duration": 4,
    "start_time": "2021-12-07T10:54:34.133Z"
   },
   {
    "duration": 41,
    "start_time": "2021-12-07T10:54:34.139Z"
   },
   {
    "duration": 21,
    "start_time": "2021-12-07T10:54:34.183Z"
   },
   {
    "duration": 17,
    "start_time": "2021-12-07T10:54:34.206Z"
   },
   {
    "duration": 50,
    "start_time": "2021-12-07T10:54:34.225Z"
   },
   {
    "duration": 5,
    "start_time": "2021-12-07T10:54:34.278Z"
   },
   {
    "duration": 225,
    "start_time": "2021-12-07T10:54:34.285Z"
   },
   {
    "duration": 12,
    "start_time": "2021-12-07T10:54:34.513Z"
   },
   {
    "duration": 56,
    "start_time": "2021-12-07T10:54:34.528Z"
   },
   {
    "duration": 39,
    "start_time": "2021-12-07T10:54:34.591Z"
   },
   {
    "duration": 34,
    "start_time": "2021-12-07T10:54:34.633Z"
   },
   {
    "duration": 40,
    "start_time": "2021-12-07T10:54:34.670Z"
   },
   {
    "duration": 57,
    "start_time": "2021-12-07T10:54:34.713Z"
   },
   {
    "duration": 24,
    "start_time": "2021-12-07T10:54:34.772Z"
   },
   {
    "duration": 18,
    "start_time": "2021-12-07T10:54:34.799Z"
   },
   {
    "duration": 292,
    "start_time": "2021-12-07T10:54:34.819Z"
   },
   {
    "duration": -190,
    "start_time": "2021-12-07T10:54:35.303Z"
   },
   {
    "duration": 261,
    "start_time": "2021-12-07T10:54:58.752Z"
   },
   {
    "duration": 16,
    "start_time": "2021-12-07T10:55:04.406Z"
   },
   {
    "duration": 280,
    "start_time": "2021-12-07T10:55:55.701Z"
   },
   {
    "duration": 279,
    "start_time": "2021-12-07T10:56:03.778Z"
   },
   {
    "duration": 275,
    "start_time": "2021-12-07T10:56:22.282Z"
   },
   {
    "duration": 810,
    "start_time": "2021-12-07T10:57:20.133Z"
   },
   {
    "duration": 200,
    "start_time": "2021-12-07T10:57:20.945Z"
   },
   {
    "duration": 34,
    "start_time": "2021-12-07T10:57:21.148Z"
   },
   {
    "duration": 35,
    "start_time": "2021-12-07T10:57:21.185Z"
   },
   {
    "duration": 6,
    "start_time": "2021-12-07T10:57:21.223Z"
   },
   {
    "duration": 4,
    "start_time": "2021-12-07T10:57:21.267Z"
   },
   {
    "duration": 12,
    "start_time": "2021-12-07T10:57:21.274Z"
   },
   {
    "duration": 35,
    "start_time": "2021-12-07T10:57:21.290Z"
   },
   {
    "duration": 102,
    "start_time": "2021-12-07T10:57:21.329Z"
   },
   {
    "duration": 46,
    "start_time": "2021-12-07T10:57:21.434Z"
   },
   {
    "duration": 116,
    "start_time": "2021-12-07T10:57:21.483Z"
   },
   {
    "duration": 125,
    "start_time": "2021-12-07T10:57:21.603Z"
   },
   {
    "duration": 103,
    "start_time": "2021-12-07T10:57:21.731Z"
   },
   {
    "duration": 14,
    "start_time": "2021-12-07T10:57:21.837Z"
   },
   {
    "duration": 4,
    "start_time": "2021-12-07T10:57:21.866Z"
   },
   {
    "duration": 23,
    "start_time": "2021-12-07T10:57:21.873Z"
   },
   {
    "duration": 27,
    "start_time": "2021-12-07T10:57:21.898Z"
   },
   {
    "duration": 46,
    "start_time": "2021-12-07T10:57:21.928Z"
   },
   {
    "duration": 21,
    "start_time": "2021-12-07T10:57:21.978Z"
   },
   {
    "duration": 6,
    "start_time": "2021-12-07T10:57:22.001Z"
   },
   {
    "duration": 239,
    "start_time": "2021-12-07T10:57:22.010Z"
   },
   {
    "duration": 25,
    "start_time": "2021-12-07T10:57:22.251Z"
   },
   {
    "duration": 36,
    "start_time": "2021-12-07T10:57:22.281Z"
   },
   {
    "duration": 60,
    "start_time": "2021-12-07T10:57:22.319Z"
   },
   {
    "duration": 6,
    "start_time": "2021-12-07T10:57:22.381Z"
   },
   {
    "duration": 56,
    "start_time": "2021-12-07T10:57:22.389Z"
   },
   {
    "duration": 33,
    "start_time": "2021-12-07T10:57:22.447Z"
   },
   {
    "duration": 27,
    "start_time": "2021-12-07T10:57:22.482Z"
   },
   {
    "duration": 19,
    "start_time": "2021-12-07T10:57:22.512Z"
   },
   {
    "duration": 34,
    "start_time": "2021-12-07T10:57:22.534Z"
   },
   {
    "duration": 498,
    "start_time": "2021-12-07T10:57:22.571Z"
   },
   {
    "duration": -180,
    "start_time": "2021-12-07T10:57:23.253Z"
   },
   {
    "duration": -196,
    "start_time": "2021-12-07T10:57:23.271Z"
   },
   {
    "duration": 13,
    "start_time": "2021-12-07T10:59:41.041Z"
   },
   {
    "duration": 12,
    "start_time": "2021-12-07T10:59:49.068Z"
   },
   {
    "duration": 279,
    "start_time": "2021-12-07T10:59:51.199Z"
   },
   {
    "duration": 13,
    "start_time": "2021-12-07T11:00:04.107Z"
   },
   {
    "duration": 284,
    "start_time": "2021-12-07T11:00:24.322Z"
   },
   {
    "duration": 12,
    "start_time": "2021-12-07T11:00:33.841Z"
   },
   {
    "duration": 7,
    "start_time": "2021-12-07T11:00:35.525Z"
   },
   {
    "duration": 7,
    "start_time": "2021-12-07T11:01:03.882Z"
   },
   {
    "duration": 13,
    "start_time": "2021-12-07T11:01:38.117Z"
   },
   {
    "duration": 7,
    "start_time": "2021-12-07T11:01:40.016Z"
   },
   {
    "duration": 13,
    "start_time": "2021-12-07T11:02:08.873Z"
   },
   {
    "duration": 9,
    "start_time": "2021-12-07T11:02:11.399Z"
   },
   {
    "duration": 14,
    "start_time": "2021-12-07T11:02:22.400Z"
   },
   {
    "duration": 7,
    "start_time": "2021-12-07T11:02:24.955Z"
   },
   {
    "duration": 10,
    "start_time": "2021-12-07T11:02:55.584Z"
   },
   {
    "duration": 6,
    "start_time": "2021-12-07T11:03:10.376Z"
   },
   {
    "duration": 185,
    "start_time": "2021-12-07T11:25:54.584Z"
   },
   {
    "duration": 25,
    "start_time": "2021-12-07T11:27:28.050Z"
   },
   {
    "duration": 595,
    "start_time": "2021-12-07T17:52:12.068Z"
   },
   {
    "duration": 124,
    "start_time": "2021-12-07T17:52:12.664Z"
   },
   {
    "duration": 15,
    "start_time": "2021-12-07T17:52:12.790Z"
   },
   {
    "duration": 22,
    "start_time": "2021-12-07T17:52:12.807Z"
   },
   {
    "duration": 5,
    "start_time": "2021-12-07T17:52:12.831Z"
   },
   {
    "duration": 6,
    "start_time": "2021-12-07T17:52:12.838Z"
   },
   {
    "duration": 8,
    "start_time": "2021-12-07T17:52:12.846Z"
   },
   {
    "duration": 48,
    "start_time": "2021-12-07T17:52:12.857Z"
   },
   {
    "duration": 41,
    "start_time": "2021-12-07T17:52:12.907Z"
   },
   {
    "duration": 19,
    "start_time": "2021-12-07T17:52:12.949Z"
   },
   {
    "duration": 66,
    "start_time": "2021-12-07T17:52:12.969Z"
   },
   {
    "duration": 73,
    "start_time": "2021-12-07T17:52:13.037Z"
   },
   {
    "duration": 46,
    "start_time": "2021-12-07T17:52:13.112Z"
   },
   {
    "duration": 10,
    "start_time": "2021-12-07T17:52:13.160Z"
   },
   {
    "duration": 18,
    "start_time": "2021-12-07T17:52:13.172Z"
   },
   {
    "duration": 10,
    "start_time": "2021-12-07T17:52:13.192Z"
   },
   {
    "duration": 9,
    "start_time": "2021-12-07T17:52:13.204Z"
   },
   {
    "duration": 12,
    "start_time": "2021-12-07T17:52:13.215Z"
   },
   {
    "duration": 11,
    "start_time": "2021-12-07T17:52:13.228Z"
   },
   {
    "duration": 4,
    "start_time": "2021-12-07T17:52:13.241Z"
   },
   {
    "duration": 146,
    "start_time": "2021-12-07T17:52:13.247Z"
   },
   {
    "duration": 8,
    "start_time": "2021-12-07T17:52:13.395Z"
   },
   {
    "duration": 29,
    "start_time": "2021-12-07T17:52:13.407Z"
   },
   {
    "duration": 50,
    "start_time": "2021-12-07T17:52:13.438Z"
   },
   {
    "duration": 6,
    "start_time": "2021-12-07T17:52:13.491Z"
   },
   {
    "duration": 27,
    "start_time": "2021-12-07T17:52:13.498Z"
   },
   {
    "duration": 19,
    "start_time": "2021-12-07T17:52:13.526Z"
   },
   {
    "duration": 15,
    "start_time": "2021-12-07T17:52:13.547Z"
   },
   {
    "duration": 25,
    "start_time": "2021-12-07T17:52:13.563Z"
   },
   {
    "duration": 8,
    "start_time": "2021-12-07T17:52:13.590Z"
   },
   {
    "duration": 4,
    "start_time": "2021-12-07T17:52:13.599Z"
   },
   {
    "duration": 8,
    "start_time": "2021-12-07T17:52:13.604Z"
   },
   {
    "duration": 4,
    "start_time": "2021-12-07T17:52:13.613Z"
   },
   {
    "duration": 80,
    "start_time": "2021-12-07T17:52:57.091Z"
   },
   {
    "duration": 4,
    "start_time": "2021-12-07T17:53:06.178Z"
   },
   {
    "duration": 4,
    "start_time": "2021-12-07T17:53:09.652Z"
   },
   {
    "duration": 11,
    "start_time": "2021-12-07T17:53:21.769Z"
   },
   {
    "duration": 9,
    "start_time": "2021-12-07T17:53:24.407Z"
   },
   {
    "duration": 10,
    "start_time": "2021-12-07T17:53:25.250Z"
   },
   {
    "duration": 10,
    "start_time": "2021-12-07T17:53:28.810Z"
   },
   {
    "duration": 12,
    "start_time": "2021-12-07T17:53:29.620Z"
   },
   {
    "duration": 106,
    "start_time": "2021-12-07T17:53:32.700Z"
   },
   {
    "duration": 21,
    "start_time": "2021-12-07T17:53:36.640Z"
   },
   {
    "duration": 18,
    "start_time": "2021-12-07T17:53:37.070Z"
   },
   {
    "duration": 17,
    "start_time": "2021-12-07T17:53:39.771Z"
   },
   {
    "duration": 12,
    "start_time": "2021-12-07T17:53:40.201Z"
   },
   {
    "duration": 16,
    "start_time": "2021-12-07T17:53:40.629Z"
   },
   {
    "duration": 9,
    "start_time": "2021-12-07T17:53:43.682Z"
   },
   {
    "duration": 7,
    "start_time": "2021-12-07T17:53:46.345Z"
   },
   {
    "duration": 5,
    "start_time": "2021-12-07T17:53:47.232Z"
   },
   {
    "duration": 3,
    "start_time": "2021-12-07T17:56:50.000Z"
   },
   {
    "duration": 8,
    "start_time": "2021-12-08T06:35:12.965Z"
   },
   {
    "duration": 252,
    "start_time": "2021-12-12T09:26:25.400Z"
   },
   {
    "duration": 541,
    "start_time": "2021-12-12T09:26:34.808Z"
   },
   {
    "duration": 878,
    "start_time": "2021-12-12T09:26:37.742Z"
   },
   {
    "duration": 847,
    "start_time": "2021-12-12T09:26:54.421Z"
   },
   {
    "duration": 829,
    "start_time": "2021-12-12T09:28:13.848Z"
   },
   {
    "duration": 16,
    "start_time": "2021-12-12T09:28:22.129Z"
   },
   {
    "duration": 539,
    "start_time": "2021-12-12T09:29:38.572Z"
   },
   {
    "duration": 549,
    "start_time": "2021-12-12T09:29:56.093Z"
   },
   {
    "duration": 575,
    "start_time": "2021-12-12T10:27:20.572Z"
   },
   {
    "duration": 299,
    "start_time": "2021-12-12T10:27:21.149Z"
   },
   {
    "duration": 744,
    "start_time": "2021-12-12T10:27:20.708Z"
   },
   {
    "duration": 711,
    "start_time": "2021-12-12T10:27:20.742Z"
   },
   {
    "duration": 698,
    "start_time": "2021-12-12T10:27:20.757Z"
   },
   {
    "duration": 685,
    "start_time": "2021-12-12T10:27:20.771Z"
   },
   {
    "duration": 672,
    "start_time": "2021-12-12T10:27:20.785Z"
   },
   {
    "duration": 660,
    "start_time": "2021-12-12T10:27:20.799Z"
   },
   {
    "duration": 648,
    "start_time": "2021-12-12T10:27:20.812Z"
   },
   {
    "duration": 636,
    "start_time": "2021-12-12T10:27:20.825Z"
   },
   {
    "duration": 608,
    "start_time": "2021-12-12T10:27:20.855Z"
   },
   {
    "duration": 595,
    "start_time": "2021-12-12T10:27:20.869Z"
   },
   {
    "duration": 584,
    "start_time": "2021-12-12T10:27:20.881Z"
   },
   {
    "duration": 571,
    "start_time": "2021-12-12T10:27:20.896Z"
   },
   {
    "duration": 557,
    "start_time": "2021-12-12T10:27:20.911Z"
   },
   {
    "duration": 542,
    "start_time": "2021-12-12T10:27:20.927Z"
   },
   {
    "duration": 528,
    "start_time": "2021-12-12T10:27:20.943Z"
   },
   {
    "duration": 492,
    "start_time": "2021-12-12T10:27:20.980Z"
   },
   {
    "duration": 480,
    "start_time": "2021-12-12T10:27:20.994Z"
   },
   {
    "duration": 467,
    "start_time": "2021-12-12T10:27:21.008Z"
   },
   {
    "duration": 455,
    "start_time": "2021-12-12T10:27:21.021Z"
   },
   {
    "duration": 444,
    "start_time": "2021-12-12T10:27:21.034Z"
   },
   {
    "duration": 434,
    "start_time": "2021-12-12T10:27:21.045Z"
   },
   {
    "duration": 416,
    "start_time": "2021-12-12T10:27:21.064Z"
   },
   {
    "duration": 385,
    "start_time": "2021-12-12T10:27:21.096Z"
   },
   {
    "duration": 373,
    "start_time": "2021-12-12T10:27:21.109Z"
   },
   {
    "duration": 362,
    "start_time": "2021-12-12T10:27:21.121Z"
   },
   {
    "duration": 350,
    "start_time": "2021-12-12T10:27:21.134Z"
   },
   {
    "duration": 339,
    "start_time": "2021-12-12T10:27:21.146Z"
   },
   {
    "duration": 326,
    "start_time": "2021-12-12T10:27:21.159Z"
   },
   {
    "duration": 316,
    "start_time": "2021-12-12T10:27:21.170Z"
   },
   {
    "duration": 302,
    "start_time": "2021-12-12T10:27:21.185Z"
   },
   {
    "duration": 274,
    "start_time": "2021-12-12T10:27:21.214Z"
   }
  ],
  "colab": {
   "collapsed_sections": [
    "E0vqbgi9ay0H",
    "VUC88oWjTJw2"
   ],
   "name": "yandex_music_project_2021.2.ipynb",
   "provenance": []
  },
  "hide_input": false,
  "kernelspec": {
   "display_name": "Python 3 (ipykernel)",
   "language": "python",
   "name": "python3"
  },
  "language_info": {
   "codemirror_mode": {
    "name": "ipython",
    "version": 3
   },
   "file_extension": ".py",
   "mimetype": "text/x-python",
   "name": "python",
   "nbconvert_exporter": "python",
   "pygments_lexer": "ipython3",
   "version": "3.9.7"
  },
  "toc": {
   "base_numbering": 1,
   "nav_menu": {},
   "number_sections": true,
   "sideBar": true,
   "skip_h1_title": true,
   "title_cell": "Table of Contents",
   "title_sidebar": "Contents",
   "toc_cell": false,
   "toc_position": {
    "height": "calc(100% - 180px)",
    "left": "10px",
    "top": "150px",
    "width": "331.441px"
   },
   "toc_section_display": true,
   "toc_window_display": false
  }
 },
 "nbformat": 4,
 "nbformat_minor": 1
}
